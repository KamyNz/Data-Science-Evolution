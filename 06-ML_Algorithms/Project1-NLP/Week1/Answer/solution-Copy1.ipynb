{
 "cells": [
  {
   "cell_type": "code",
   "execution_count": 57,
   "metadata": {},
   "outputs": [],
   "source": [
    "# Instalation\n",
    "#!pip install nltk\n",
    "#!pip install textblob"
   ]
  },
  {
   "cell_type": "code",
   "execution_count": 58,
   "metadata": {},
   "outputs": [
    {
     "name": "stdout",
     "output_type": "stream",
     "text": [
      "/Users/camilamv/Documents/Learning/02-Practice/Data-Science-Evolution/06-ML_Algorithms/Project1-NLP/Week1/Answer\n"
     ]
    }
   ],
   "source": [
    "!pwd"
   ]
  },
  {
   "cell_type": "code",
   "execution_count": 59,
   "metadata": {},
   "outputs": [
    {
     "name": "stdout",
     "output_type": "stream",
     "text": [
      "/Users/camilamv/Documents/Learning/02-Practice/Data-Science-Evolution/data//raw/\n",
      "/Users/camilamv/Documents/Learning/02-Practice/Data-Science-Evolution/data//stage/\n",
      "/Users/camilamv/Documents/Learning/02-Practice/Data-Science-Evolution/data//analytics/\n"
     ]
    }
   ],
   "source": [
    "#Loading needed libraries and data paths\n",
    "import os\n",
    "import sys\n",
    "\n",
    "#using sys.path\n",
    "base_dir=\"/Users/camilamv/Documents/Learning/02-Practice/Data-Science-Evolution/\"\n",
    "sys.path.append(base_dir)\n",
    "\n",
    "import root\n",
    "print(root.DIR_DATA_RAW)\n",
    "print(root.DIR_DATA_STAGE)\n",
    "print(root.DIR_DATA_ANALYTICS)\n",
    "\n",
    "#Importing modules for exercises\n",
    "import nltk\n",
    "#nltk.download('all')\n",
    "from nltk.book import * "
   ]
  },
  {
   "cell_type": "markdown",
   "metadata": {},
   "source": [
    "<br>"
   ]
  },
  {
   "cell_type": "markdown",
   "metadata": {},
   "source": [
    "### Question 1\n",
    "\n",
    "Crear un programa en el que se genere un archivo (fichero_suma.txt) que sea el resultado de la suma de los valores contenidos en dos archivos (fichero1.txt, fichero2.txt). Estos ficheros contendrán 5 valores (1 por línea)."
   ]
  },
  {
   "cell_type": "code",
   "execution_count": null,
   "metadata": {},
   "outputs": [],
   "source": []
  },
  {
   "cell_type": "markdown",
   "metadata": {},
   "source": [
    "### Question 2\n",
    "Utilizar el sistema de ayuda de Python para obtener información sobre las librerías “nltk” y “sklearn” que serán utilizadas en las siguientes prácticas."
   ]
  },
  {
   "cell_type": "code",
   "execution_count": null,
   "metadata": {},
   "outputs": [],
   "source": []
  },
  {
   "cell_type": "markdown",
   "metadata": {},
   "source": [
    "### Question 3\n",
    "Producir un diagrama de dispersión de los cuatro protagonistas Elinor, Marianne, Edward y Willoughby en “text2: Sense and Sensibility by Jane Austen 1811”:\n",
    "\n",
    "a. ¿Qué puedes observar sobre los diferentes roles que juegan los hombres y las mujeres en esta novela?\n",
    "\n",
    "b. ¿Puedes identificar a las parejas?"
   ]
  },
  {
   "cell_type": "code",
   "execution_count": 60,
   "metadata": {},
   "outputs": [],
   "source": [
    "#nltk.download('all')\n",
    "#importing book and putting in a object\n",
    "def describe_book(text_object):\n",
    "  print(text_object.name)\n",
    "  print(type(text_object))\n",
    "  print('\\n')\n",
    "\n",
    "def describe_character(text_object :nltk.text.Text ,character : str):\n",
    "  print('### Character Description')\n",
    "  print(character)\n",
    "  print(text_object.concordance(character))\n",
    "\n",
    "def describe_characters_list(text_object,character_list):\n",
    "  print('### Character list length')\n",
    "  print('List has ',len(character_list))\n",
    "  print('\\n')\n",
    "\n",
    "  print('Loop over character list')\n",
    "  for idx,value in enumerate(character_list):\n",
    "    print(value)\n",
    "    print(text_object.concordance(value))\n",
    "    print('\\n')\n",
    "\n"
   ]
  },
  {
   "cell_type": "code",
   "execution_count": 61,
   "metadata": {},
   "outputs": [
    {
     "name": "stdout",
     "output_type": "stream",
     "text": [
      "Sense and Sensibility by Jane Austen 1811\n",
      "<class 'nltk.text.Text'>\n",
      "\n",
      "\n",
      "### Character Description\n",
      "Elinor\n",
      "Displaying 25 of 685 matches:\n",
      "avoid a breach with their brother . Elinor , this eldest daughter , whose advi\n",
      ", in many respects , quite equal to Elinor ' s . She was sensible and clever ;\n",
      "d her mother was strikingly great . Elinor saw , with concern , the excess of \n",
      "r admitting consolation in future . Elinor , too , was deeply afflicted ; but \n",
      "at he loved her daughter , and that Elinor returned the partiality . It was co\n",
      "semblance of disposition ; and that Elinor ' s merit should not be acknowledge\n",
      "him farther , by a reflection which Elinor chanced one day to make on the diff\n",
      "\" I think you will like him ,\" said Elinor , \" when you know more of him .\" \" \n",
      " ; the persuasion of his regard for Elinor perhaps assisted her penetration ; \n",
      "symptom of love in his behaviour to Elinor , than she considered their serious\n",
      " , my dear Marianne .\" said she , \" Elinor will , in all probability be settle\n",
      "attract him , and though he admires Elinor ' s drawings very much , it is not \n",
      "ust allow for difference of taste . Elinor has not my feelings , and therefore\n",
      " !\" CHAPTER 4 \" What a pity it is , Elinor ,\" said Marianne , \" that Edward sh\n",
      "\" \" No taste for drawing !\" replied Elinor , \" why should you think so ? He do\n",
      "; but the kind of approbation which Elinor described as excited in him by the \n",
      " . \" I hope , Marianne ,\" continued Elinor , \" you do not consider him as defi\n",
      "he replied : \" Do not be offended , Elinor , if my praise of him is not in eve\n",
      "d amiable .\" \" I am sure ,\" replied Elinor , with a smile , \" that his dearest\n",
      "sense and his goodness ,\" continued Elinor , \" no one can , I think , be in do\n",
      "hall very soon think him handsome , Elinor , if I do not now . When you tell m\n",
      "ace , than I now do in his heart .\" Elinor started at this declaration , and w\n",
      "eem him ! Like him ! Cold - hearted Elinor ! Oh ! worse than cold - hearted ! \n",
      " will leave the room this moment .\" Elinor could not help laughing . \" Excuse \n",
      "elf , how delightful it would be !\" Elinor had given her real opinion to her s\n",
      "None\n"
     ]
    }
   ],
   "source": [
    "character_list = ['Elinor', 'Marianne', 'Edward', 'Willoughby']\n",
    "\n",
    "describe_book(text2)\n",
    "\n",
    "describe_character(text2,'Elinor')"
   ]
  },
  {
   "cell_type": "code",
   "execution_count": 62,
   "metadata": {},
   "outputs": [
    {
     "name": "stdout",
     "output_type": "stream",
     "text": [
      "### Character Description\n",
      "Marianne\n",
      "Displaying 25 of 566 matches:\n",
      " had resolved never to be taught . Marianne ' s abilities were , in many respe\n",
      "had already imbibed a good deal of Marianne ' s romance , without having much \n",
      "hing . \" In a few months , my dear Marianne .\" said she , \" Elinor will , in a\n",
      "d ' s heart . But you look grave , Marianne ; do you disapprove your sister ' \n",
      "er ' s choice ?\" \" Perhaps ,\" said Marianne , \" I may consider it with some su\n",
      "er ? In one circumstance only , my Marianne , may your destiny be different fr\n",
      "What a pity it is , Elinor ,\" said Marianne , \" that Edward should have no tas\n",
      "eral direct him perfectly right .\" Marianne was afraid of offending , and said\n",
      "ard which produced it . \" I hope , Marianne ,\" continued Elinor , \" you do not\n",
      "you could never be civil to him .\" Marianne hardly knew what to say . She woul\n",
      "ld express yourself more warmly .\" Marianne was rejoiced to find her sister so\n",
      "least , almost so . What say you , Marianne ?\" \" I shall very soon think him h\n",
      "ed greater certainty of it to make Marianne ' s conviction of their attachment\n",
      "eeable to her . She knew that what Marianne and her mother conjectured one mom\n",
      "reatly esteem , that I like him .\" Marianne here burst forth with indignation \n",
      "er a great fortune or high rank .\" Marianne was astonished to find how much th\n",
      "Edward in so prosperous a state as Marianne had believed it . There was , at t\n",
      "ks , with a handsome pianoforte of Marianne ' s . Mrs . John Dashwood saw the \n",
      "ed . \" Dear , dear Norland !\" said Marianne , as she wandered alone before the\n",
      "ions , to form themselves a home . Marianne ' s pianoforte was unpacked and pr\n",
      "em blush whether they did or not . Marianne was vexed at it for her sister ' s\n",
      "ite of his being in the opinion of Marianne and Margaret an absolute old bache\n",
      "o themselves . In the evening , as Marianne was discovered to be musical , she\n",
      " body prepared to be charmed , and Marianne , who sang very well , at their re\n",
      "d by her own was very fond of it . Marianne ' s performance was highly applaud\n",
      "None\n"
     ]
    }
   ],
   "source": [
    "describe_character(text2,'Marianne')"
   ]
  },
  {
   "cell_type": "code",
   "execution_count": 64,
   "metadata": {},
   "outputs": [
    {
     "name": "stdout",
     "output_type": "stream",
     "text": [
      "### Character Description\n",
      "Edward\n",
      "Displaying 25 of 263 matches:\n",
      "macy from motives of interest , for Edward Ferrars was the eldest son of a man\n",
      "s to her comprehension impossible . Edward Ferrars was not recommended to thei\n",
      "to see him driving a barouche . But Edward had no turn for great men or barouc\n",
      "er brother who was more promising . Edward had been staying several weeks in t\n",
      "the highest opinion in the world of Edward ' s heart . But you look grave , Ma\n",
      "ay consider it with some surprise . Edward is very amiable , and I love him te\n",
      "ama , how spiritless , how tame was Edward ' s manner in reading to us last ni\n",
      " require so much ! He must have all Edward ' s virtues , and his person and ma\n",
      " , Elinor ,\" said Marianne , \" that Edward should have no taste for drawing .\"\n",
      "sister for that blind partiality to Edward which produced it . \" I hope , Mari\n",
      " in speaking of him . She felt that Edward stood very high in her opinion . Sh\n",
      "le ; and I am very much mistaken if Edward is not himself aware that there wou\n",
      " I shall not lose you so soon , and Edward will have greater opportunity of im\n",
      "uld not consider her partiality for Edward in so prosperous a state as Mariann\n",
      "t she was going into Devonshire .-- Edward turned hastily towards her , on hea\n",
      "ood to visit her at Barton ; and to Edward she gave one with still greater aff\n",
      "it principally tended . To separate Edward and Elinor was as far from being he\n",
      "cannot conceal from you . I am sure Edward Ferrars is not well . We have now b\n",
      "vening of their being together ! In Edward ' s farewell there was no distincti\n",
      "nd Elinor , in quitting Norland and Edward , cried not as I did . Even now her\n",
      "ll the sensibility and spirit which Edward had unfortunately wanted . In Mrs .\n",
      " gained two such sons - in - law as Edward and Willoughby . Colonel Brandon ' \n",
      "nd with surprise to see and welcome Edward Ferrars . He was the only person in\n",
      "anne , indeed , the meeting between Edward and her sister was but a continuati\n",
      "land in their mutual behaviour . On Edward ' s side , more particularly , ther\n",
      "None\n"
     ]
    }
   ],
   "source": [
    "describe_character(text2,'Edward')"
   ]
  },
  {
   "cell_type": "code",
   "execution_count": null,
   "metadata": {},
   "outputs": [],
   "source": [
    "describe_character(text2,'Willoughby')"
   ]
  },
  {
   "cell_type": "markdown",
   "metadata": {},
   "source": [
    "### Question 4\n",
    "\n",
    "En la primera oración del texto3 se crea la variable sent3 que la contiene. Ahora en el índice 1 de este arreglo sent3 nos da 'the', se expresaría sent3[1].\n",
    "\n",
    "a. ¿Cuáles son los índices de las otras dos ocurrencias de esta palabra en sent3?\n",
    "\n",
    "b. ¿Qué otros índices nos servirían para recuperar la misma información?"
   ]
  },
  {
   "cell_type": "code",
   "execution_count": null,
   "metadata": {},
   "outputs": [],
   "source": []
  },
  {
   "cell_type": "markdown",
   "metadata": {},
   "source": [
    "### Question 5\n",
    "\n",
    "¿Cuál es la diferencia entre las líneas a y b? ¿Cuál dará un mayor valor? ¿Este caso es generalizable?\n",
    "\n",
    "a. >>> sorted(set(w.lower() for w in text1))\n",
    "\n",
    "b. >>> sorted(w.lower() for w in set(text1))\n"
   ]
  },
  {
   "cell_type": "code",
   "execution_count": null,
   "metadata": {},
   "outputs": [],
   "source": []
  },
  {
   "cell_type": "markdown",
   "metadata": {},
   "source": [
    "<br>"
   ]
  }
 ],
 "metadata": {
  "interpreter": {
   "hash": "fb528f20e68ad4d9a143d6a6610a5abe782fba969335472a5d2017558328b730"
  },
  "kernelspec": {
   "display_name": "Python 3 (ipykernel)",
   "language": "python",
   "name": "python3"
  },
  "language_info": {
   "codemirror_mode": {
    "name": "ipython",
    "version": 3
   },
   "file_extension": ".py",
   "mimetype": "text/x-python",
   "name": "python",
   "nbconvert_exporter": "python",
   "pygments_lexer": "ipython3",
   "version": "3.8.11"
  }
 },
 "nbformat": 4,
 "nbformat_minor": 4
}
