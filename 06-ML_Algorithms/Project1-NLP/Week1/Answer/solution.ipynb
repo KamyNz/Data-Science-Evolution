{
 "cells": [
  {
   "cell_type": "code",
   "execution_count": 57,
   "metadata": {},
   "outputs": [],
   "source": [
    "# Instalation\n",
    "#!pip install nltk\n",
    "#!pip install textblob"
   ]
  },
  {
   "cell_type": "code",
   "execution_count": 58,
   "metadata": {},
   "outputs": [
    {
     "name": "stdout",
     "output_type": "stream",
     "text": [
      "/Users/camilamv/Documents/Learning/02-Practice/Data-Science-Evolution/06-ML_Algorithms/Project1-NLP/Week1/Answer\n"
     ]
    }
   ],
   "source": [
    "!pwd"
   ]
  },
  {
   "cell_type": "code",
   "execution_count": 101,
   "metadata": {},
   "outputs": [
    {
     "name": "stdout",
     "output_type": "stream",
     "text": [
      "/Users/camilamv/Documents/Learning/02-Practice/Data-Science-Evolution/data//raw/\n",
      "/Users/camilamv/Documents/Learning/02-Practice/Data-Science-Evolution/data//stage/\n",
      "/Users/camilamv/Documents/Learning/02-Practice/Data-Science-Evolution/data//analytics/\n"
     ]
    }
   ],
   "source": [
    "#Loading needed libraries and data paths\n",
    "import os\n",
    "import sys\n",
    "\n",
    "#using sys.path\n",
    "base_dir=\"/Users/camilamv/Documents/Learning/02-Practice/Data-Science-Evolution/\"\n",
    "sys.path.append(base_dir)\n",
    "\n",
    "import root\n",
    "print(root.DIR_DATA_RAW)\n",
    "print(root.DIR_DATA_STAGE)\n",
    "print(root.DIR_DATA_ANALYTICS)\n",
    "\n",
    "#Importing modules for exercises\n",
    "import re\n",
    "import nltk\n",
    "#nltk.download('all')\n",
    "from nltk.book import * \n",
    "from matplotlib import pyplot as plt"
   ]
  },
  {
   "cell_type": "markdown",
   "metadata": {},
   "source": [
    "<br>"
   ]
  },
  {
   "cell_type": "markdown",
   "metadata": {},
   "source": [
    "### Question 1\n",
    "\n",
    "Crear un programa en el que se genere un archivo (fichero_suma.txt) que sea el resultado de la suma de los valores contenidos en dos archivos (fichero1.txt, fichero2.txt). Estos ficheros contendrán 5 valores (1 por línea)."
   ]
  },
  {
   "cell_type": "code",
   "execution_count": null,
   "metadata": {},
   "outputs": [],
   "source": []
  },
  {
   "cell_type": "markdown",
   "metadata": {},
   "source": [
    "### Question 2\n",
    "Utilizar el sistema de ayuda de Python para obtener información sobre las librerías “nltk” y “sklearn” que serán utilizadas en las siguientes prácticas."
   ]
  },
  {
   "cell_type": "code",
   "execution_count": 158,
   "metadata": {},
   "outputs": [
    {
     "name": "stdout",
     "output_type": "stream",
     "text": [
      "Help on package nltk:\n",
      "\n",
      "NAME\n",
      "    nltk\n",
      "\n",
      "DESCRIPTION\n",
      "    The Natural Language Toolkit (NLTK) is an open source Python library\n",
      "    for Natural Language Processing.  A free online book is available.\n",
      "    (If you use the library for academic research, please cite the book.)\n",
      "    \n",
      "    Steven Bird, Ewan Klein, and Edward Loper (2009).\n",
      "    Natural Language Processing with Python.  O'Reilly Media Inc.\n",
      "    http://nltk.org/book\n",
      "    \n",
      "    @version: 3.6.2\n",
      "\n",
      "PACKAGE CONTENTS\n",
      "    app (package)\n",
      "    book\n",
      "    ccg (package)\n",
      "    chat (package)\n",
      "    chunk (package)\n",
      "    classify (package)\n",
      "    cli\n",
      "    cluster (package)\n",
      "    collections\n",
      "    collocations\n",
      "    compat\n",
      "    corpus (package)\n",
      "    data\n",
      "    decorators\n",
      "    downloader\n",
      "    draw (package)\n",
      "    featstruct\n",
      "    grammar\n",
      "    help\n",
      "    inference (package)\n",
      "    internals\n",
      "    jsontags\n",
      "    lazyimport\n",
      "    lm (package)\n",
      "    metrics (package)\n",
      "    misc (package)\n",
      "    parse (package)\n",
      "    probability\n",
      "    sem (package)\n",
      "    sentiment (package)\n",
      "    stem (package)\n",
      "    tag (package)\n",
      "    tbl (package)\n",
      "    test (package)\n",
      "    text\n",
      "    tgrep\n",
      "    tokenize (package)\n",
      "    toolbox\n",
      "    translate (package)\n",
      "    tree\n",
      "    treeprettyprinter\n",
      "    treetransforms\n",
      "    twitter (package)\n",
      "    util\n",
      "    wsd\n",
      "\n",
      "SUBMODULES\n",
      "    agreement\n",
      "    aline\n",
      "    api\n",
      "    association\n",
      "    bleu_score\n",
      "    bllip\n",
      "    boxer\n",
      "    brill\n",
      "    brill_trainer\n",
      "    casual\n",
      "    chart\n",
      "    chrf_score\n",
      "    cistem\n",
      "    confusionmatrix\n",
      "    corenlp\n",
      "    crf\n",
      "    decisiontree\n",
      "    dependencygraph\n",
      "    destructive\n",
      "    discourse\n",
      "    distance\n",
      "    drt\n",
      "    earleychart\n",
      "    evaluate\n",
      "    featurechart\n",
      "    gale_church\n",
      "    gdfa\n",
      "    gleu_score\n",
      "    glue\n",
      "    hmm\n",
      "    hunpos\n",
      "    ibm1\n",
      "    ibm2\n",
      "    ibm3\n",
      "    ibm4\n",
      "    ibm5\n",
      "    ibm_model\n",
      "    isri\n",
      "    lancaster\n",
      "    legality_principle\n",
      "    lfg\n",
      "    linearlogic\n",
      "    logic\n",
      "    mace\n",
      "    malt\n",
      "    mapping\n",
      "    maxent\n",
      "    megam\n",
      "    meteor_score\n",
      "    mwe\n",
      "    naivebayes\n",
      "    nist_score\n",
      "    nonprojectivedependencyparser\n",
      "    paice\n",
      "    pchart\n",
      "    perceptron\n",
      "    phrase_based\n",
      "    porter\n",
      "    positivenaivebayes\n",
      "    projectivedependencyparser\n",
      "    prover9\n",
      "    punkt\n",
      "    recursivedescent\n",
      "    regexp\n",
      "    relextract\n",
      "    repp\n",
      "    resolution\n",
      "    ribes_score\n",
      "    rslp\n",
      "    rte_classify\n",
      "    scikitlearn\n",
      "    scores\n",
      "    segmentation\n",
      "    senna\n",
      "    sequential\n",
      "    sexpr\n",
      "    shiftreduce\n",
      "    simple\n",
      "    snowball\n",
      "    sonority_sequencing\n",
      "    spearman\n",
      "    stack_decoder\n",
      "    stanford\n",
      "    stanford_segmenter\n",
      "    tableau\n",
      "    tadm\n",
      "    textcat\n",
      "    texttiling\n",
      "    tnt\n",
      "    toktok\n",
      "    transitionparser\n",
      "    treebank\n",
      "    viterbi\n",
      "    weka\n",
      "    wordnet\n",
      "\n",
      "FUNCTIONS\n",
      "    demo()\n",
      "        # FIXME:  override any accidentally imported demo, see https://github.com/nltk/nltk/issues/2116\n",
      "    \n",
      "    tee(iterable, n=2, /)\n",
      "        Returns a tuple of n independent iterators.\n",
      "\n",
      "DATA\n",
      "    RUS_PICKLE = 'taggers/averaged_perceptron_tagger_ru/averaged_perceptro...\n",
      "    SLASH = *slash*\n",
      "    TYPE = *type*\n",
      "    __author_email__ = 'stevenbird1@gmail.com'\n",
      "    __classifiers__ = ['Development Status :: 5 - Production/Stable', 'Int...\n",
      "    __copyright__ = 'Copyright (C) 2001-2021 NLTK Project.\\n\\nDistribut......\n",
      "    __keywords__ = ['NLP', 'CL', 'natural language processing', 'computati...\n",
      "    __license__ = 'Apache License, Version 2.0'\n",
      "    __longdescr__ = 'The Natural Language Toolkit (NLTK) is a Python ... p...\n",
      "    __maintainer__ = 'Steven Bird, Edward Loper, Ewan Klein'\n",
      "    __maintainer_email__ = 'stevenbird1@gmail.com'\n",
      "    __url__ = 'http://nltk.org/'\n",
      "    app = <LazyModule 'nltk.nltk.app'>\n",
      "    chat = <LazyModule 'nltk.nltk.chat'>\n",
      "    corpus = <LazyModule 'nltk.nltk.corpus'>\n",
      "    infile = <_io.TextIOWrapper name='/opt/miniconda3/envs/ds...packages/n...\n",
      "    json_tags = {'!nltk.tag.BrillTagger': <class 'nltk.tag.brill.BrillTagg...\n",
      "    toolbox = <LazyModule 'nltk.nltk.toolbox'>\n",
      "    version_file = '/opt/miniconda3/envs/ds-evolution/lib/python3.8/site-p...\n",
      "    version_info = sys.version_info(major=3, minor=8, micro=11, releaselev...\n",
      "\n",
      "VERSION\n",
      "    3.6.2\n",
      "\n",
      "AUTHOR\n",
      "    Steven Bird, Edward Loper, Ewan Klein\n",
      "\n",
      "FILE\n",
      "    /opt/miniconda3/envs/ds-evolution/lib/python3.8/site-packages/nltk/__init__.py\n",
      "\n",
      "\n"
     ]
    }
   ],
   "source": [
    "# Applying help to a package such as nltK\n",
    "help(nltk)\n",
    "\n",
    "#sent3.__doc__ One way to check documentation\n",
    "#sent3.findall.__doc__ Other way to check documentation"
   ]
  },
  {
   "cell_type": "code",
   "execution_count": 159,
   "metadata": {},
   "outputs": [
    {
     "name": "stdout",
     "output_type": "stream",
     "text": [
      "Help on module nltk.book in nltk:\n",
      "\n",
      "NAME\n",
      "    nltk.book\n",
      "\n",
      "DESCRIPTION\n",
      "    # Natural Language Toolkit: Some texts for exploration in chapter 1 of the book\n",
      "    #\n",
      "    # Copyright (C) 2001-2021 NLTK Project\n",
      "    # Author: Steven Bird <stevenbird1@gmail.com>\n",
      "    #\n",
      "    # URL: <http://nltk.org/>\n",
      "    # For license information, see LICENSE.TXT\n",
      "\n",
      "FUNCTIONS\n",
      "    sents()\n",
      "    \n",
      "    texts()\n",
      "\n",
      "DATA\n",
      "    genesis = <PlaintextCorpusReader in '/Users/camilamv/nltk_data/corpora...\n",
      "    gutenberg = <PlaintextCorpusReader in '/Users/camilamv/nltk_data/corpo...\n",
      "    inaugural = <PlaintextCorpusReader in '/Users/camilamv/nltk_data/corpo...\n",
      "    nps_chat = <NPSChatCorpusReader in '/Users/camilamv/nltk_data/corpora/...\n",
      "    sent1 = ['Call', 'me', 'Ishmael', '.']\n",
      "    sent2 = ['The', 'family', 'of', 'Dashwood', 'had', 'long', 'been', 'se...\n",
      "    sent3 = ['In', 'the', 'beginning', 'God', 'created', 'the', 'heaven', ...\n",
      "    sent4 = ['Fellow', '-', 'Citizens', 'of', 'the', 'Senate', 'and', 'of'...\n",
      "    sent5 = ['I', 'have', 'a', 'problem', 'with', 'people', 'PMing', 'me',...\n",
      "    sent6 = ['SCENE', '1', ':', '[', 'wind', ']', '[', 'clop', 'clop', 'cl...\n",
      "    sent7 = ['Pierre', 'Vinken', ',', '61', 'years', 'old', ',', 'will', '...\n",
      "    sent8 = ['25', 'SEXY', 'MALE', ',', 'seeks', 'attrac', 'older', 'singl...\n",
      "    sent9 = ['THE', 'suburb', 'of', 'Saffron', 'Park', 'lay', 'on', 'the',...\n",
      "    text1 = <Text: Moby Dick by Herman Melville 1851>\n",
      "    text2 = <Text: Sense and Sensibility by Jane Austen 1811>\n",
      "    text3 = <Text: The Book of Genesis>\n",
      "    text4 = <Text: Inaugural Address Corpus>\n",
      "    text5 = <Text: Chat Corpus>\n",
      "    text6 = <Text: Monty Python and the Holy Grail>\n",
      "    text7 = <Text: Wall Street Journal>\n",
      "    text8 = <Text: Personals Corpus>\n",
      "    text9 = <Text: The Man Who Was Thursday by G . K . Chesterton 1908>\n",
      "    treebank = <BracketParseCorpusReader in '/Users/camilamv/nltk_data/cor...\n",
      "    webtext = <PlaintextCorpusReader in '/Users/camilamv/nltk_data/corpora...\n",
      "    wordnet = <WordNetCorpusReader in '/Users/camilamv/nltk_data/corpora/w...\n",
      "\n",
      "FILE\n",
      "    /opt/miniconda3/envs/ds-evolution/lib/python3.8/site-packages/nltk/book.py\n",
      "\n",
      "\n"
     ]
    }
   ],
   "source": [
    "# Applying help to specific module of package nltk\n",
    "\n",
    "help(nltk.book)"
   ]
  },
  {
   "cell_type": "markdown",
   "metadata": {},
   "source": [
    "### Question 3\n",
    "Producir un diagrama de dispersión de los cuatro protagonistas Elinor, Marianne, Edward y Willoughby en “text2: Sense and Sensibility by Jane Austen 1811”:\n",
    "\n",
    "a. ¿Qué puedes observar sobre los diferentes roles que juegan los hombres y las mujeres en esta novela?\n",
    "R// Dado que es una obra centrada desde la perspectiva de las mujeres, la distribucion de la importancia en el texto es en mayor parte de Elinor y Marianne. Igualmente, la historia se centra de forma mas prominente en Elinor que Marianne. \n",
    "\n",
    "![pic1](pic1.png)\n",
    "\n",
    "b. ¿Puedes identificar a las parejas?\n",
    "R// Luego de accionar las funciones de concordancia, similaridad y contexto comun para cada una de las palabras y sus posible parejas, se puede inferir que Elinor esta mas relacionada con Edward y Marianne con Willoughby. Igualmente, la distribucion durante el libro se encuentra mas alineada a nivel de espacios entre Elinor y Edward que de Elinor con Willoughby por lo cual tiene mas sentido que esten relacionados. "
   ]
  },
  {
   "cell_type": "code",
   "execution_count": 84,
   "metadata": {},
   "outputs": [],
   "source": [
    "#nltk.download('all')\n",
    "#importing book and putting in a object\n",
    "def describe_book(text_object):\n",
    "  print(text_object.name)\n",
    "  print(type(text_object))\n",
    "  print('\\n')\n",
    "\n",
    "def describe_character(text_object : nltk.text.Text,character : str):\n",
    "    print('\\n### Character Description')\n",
    "    print(character)\n",
    "    \n",
    "    print('\\n### Concordance')\n",
    "    print(text_object.concordance(character))\n",
    "    \n",
    "    print('\\n### Similar')\n",
    "    if(text_object.similar(character) != None):\n",
    "        print(text_object.similar(character))\n",
    "    else:\n",
    "        print('It could not find similar words for', character)\n",
    "    \n",
    "    print('\\n### Common Contextsx')\n",
    "    if(text_object.common_contexts(character) != None):\n",
    "        print(text_object.common_contexts(character))\n",
    "    else:\n",
    "        print('It could not fine Common Context for', character)\n",
    "\n",
    "    \n",
    "def dispersionplot_character_list(text_object : nltk.text.Text, character_list : list):\n",
    "    print('### Character List Dispersion plot')\n",
    "    return(text_object.dispersion_plot(character_list))\n",
    "    \n",
    "\n",
    "def describe_characters_list(text_object,character_list):\n",
    "  print('### Character list length')\n",
    "  print('List has ',len(character_list))\n",
    "  print('\\n')\n",
    "\n",
    "  print('Loop over character list')\n",
    "  for idx,value in enumerate(character_list):\n",
    "    print(value)\n",
    "    print(text_object.concordance(value))\n",
    "    print('\\n')\n",
    "\n"
   ]
  },
  {
   "cell_type": "code",
   "execution_count": 85,
   "metadata": {},
   "outputs": [
    {
     "name": "stdout",
     "output_type": "stream",
     "text": [
      "Sense and Sensibility by Jane Austen 1811\n",
      "<class 'nltk.text.Text'>\n",
      "\n",
      "\n",
      "\n",
      "### Character Description\n",
      "Elinor\n",
      "\n",
      "### Concordance\n",
      "Displaying 25 of 685 matches:\n",
      "avoid a breach with their brother . Elinor , this eldest daughter , whose advi\n",
      ", in many respects , quite equal to Elinor ' s . She was sensible and clever ;\n",
      "d her mother was strikingly great . Elinor saw , with concern , the excess of \n",
      "r admitting consolation in future . Elinor , too , was deeply afflicted ; but \n",
      "at he loved her daughter , and that Elinor returned the partiality . It was co\n",
      "semblance of disposition ; and that Elinor ' s merit should not be acknowledge\n",
      "him farther , by a reflection which Elinor chanced one day to make on the diff\n",
      "\" I think you will like him ,\" said Elinor , \" when you know more of him .\" \" \n",
      " ; the persuasion of his regard for Elinor perhaps assisted her penetration ; \n",
      "symptom of love in his behaviour to Elinor , than she considered their serious\n",
      " , my dear Marianne .\" said she , \" Elinor will , in all probability be settle\n",
      "attract him , and though he admires Elinor ' s drawings very much , it is not \n",
      "ust allow for difference of taste . Elinor has not my feelings , and therefore\n",
      " !\" CHAPTER 4 \" What a pity it is , Elinor ,\" said Marianne , \" that Edward sh\n",
      "\" \" No taste for drawing !\" replied Elinor , \" why should you think so ? He do\n",
      "; but the kind of approbation which Elinor described as excited in him by the \n",
      " . \" I hope , Marianne ,\" continued Elinor , \" you do not consider him as defi\n",
      "he replied : \" Do not be offended , Elinor , if my praise of him is not in eve\n",
      "d amiable .\" \" I am sure ,\" replied Elinor , with a smile , \" that his dearest\n",
      "sense and his goodness ,\" continued Elinor , \" no one can , I think , be in do\n",
      "hall very soon think him handsome , Elinor , if I do not now . When you tell m\n",
      "ace , than I now do in his heart .\" Elinor started at this declaration , and w\n",
      "eem him ! Like him ! Cold - hearted Elinor ! Oh ! worse than cold - hearted ! \n",
      " will leave the room this moment .\" Elinor could not help laughing . \" Excuse \n",
      "elf , how delightful it would be !\" Elinor had given her real opinion to her s\n",
      "None\n",
      "\n",
      "### Similar\n",
      "marianne she he it edward him lucy i her you which that willoughby me\n",
      "they herself them be all what\n",
      "It could not find similar words for Elinor\n",
      "\n",
      "### Common Contextsx\n",
      "('The following word(s) were not found:', 'e l i n o r')\n",
      "It could not fine Common Context for Elinor\n",
      "\n",
      "### Character Description\n",
      "Edward\n",
      "\n",
      "### Concordance\n",
      "Displaying 25 of 263 matches:\n",
      "macy from motives of interest , for Edward Ferrars was the eldest son of a man\n",
      "s to her comprehension impossible . Edward Ferrars was not recommended to thei\n",
      "to see him driving a barouche . But Edward had no turn for great men or barouc\n",
      "er brother who was more promising . Edward had been staying several weeks in t\n",
      "the highest opinion in the world of Edward ' s heart . But you look grave , Ma\n",
      "ay consider it with some surprise . Edward is very amiable , and I love him te\n",
      "ama , how spiritless , how tame was Edward ' s manner in reading to us last ni\n",
      " require so much ! He must have all Edward ' s virtues , and his person and ma\n",
      " , Elinor ,\" said Marianne , \" that Edward should have no taste for drawing .\"\n",
      "sister for that blind partiality to Edward which produced it . \" I hope , Mari\n",
      " in speaking of him . She felt that Edward stood very high in her opinion . Sh\n",
      "le ; and I am very much mistaken if Edward is not himself aware that there wou\n",
      " I shall not lose you so soon , and Edward will have greater opportunity of im\n",
      "uld not consider her partiality for Edward in so prosperous a state as Mariann\n",
      "t she was going into Devonshire .-- Edward turned hastily towards her , on hea\n",
      "ood to visit her at Barton ; and to Edward she gave one with still greater aff\n",
      "it principally tended . To separate Edward and Elinor was as far from being he\n",
      "cannot conceal from you . I am sure Edward Ferrars is not well . We have now b\n",
      "vening of their being together ! In Edward ' s farewell there was no distincti\n",
      "nd Elinor , in quitting Norland and Edward , cried not as I did . Even now her\n",
      "ll the sensibility and spirit which Edward had unfortunately wanted . In Mrs .\n",
      " gained two such sons - in - law as Edward and Willoughby . Colonel Brandon ' \n",
      "nd with surprise to see and welcome Edward Ferrars . He was the only person in\n",
      "anne , indeed , the meeting between Edward and her sister was but a continuati\n",
      "land in their mutual behaviour . On Edward ' s side , more particularly , ther\n",
      "None\n",
      "\n",
      "### Similar\n",
      "it marianne elinor she her willoughby he him you lucy me them i\n",
      "herself they that robert hope all one\n",
      "It could not find similar words for Edward\n",
      "\n",
      "### Common Contextsx\n",
      "('The following word(s) were not found:', 'e d w a r d')\n",
      "It could not fine Common Context for Edward\n",
      "\n",
      "### Character Description\n",
      "Willoughby\n",
      "\n",
      "### Concordance\n",
      "Displaying 25 of 216 matches:\n",
      "ged . His name , he replied , was Willoughby , and his present home was at All\n",
      "knew any gentleman of the name of Willoughby at Allenham . \" Willoughby !\" cri\n",
      "ame of Willoughby at Allenham . \" Willoughby !\" cried Sir John ; \" what , is H\n",
      "isfy him as to the colour of Mr . Willoughby ' s pointer , than he could descr\n",
      "ence ; and he told them that Mr . Willoughby had no property of his own in the\n",
      "good humoured smile , \" that Mr . Willoughby will be incommoded by the attempt\n",
      " elegance than precision , styled Willoughby , called at the cottage early the\n",
      "ly be seen without delight . From Willoughby their expression was at first hel\n",
      "You have already ascertained Mr . Willoughby ' s opinion in almost every matte\n",
      "rianne was softened in a moment . Willoughby , on his side , gave every proof \n",
      "y confinement been less irksome . Willoughby was a young man of good abilities\n",
      "had been rash and unjustifiable . Willoughby was all that her fancy had deline\n",
      "uch sons - in - law as Edward and Willoughby . Colonel Brandon ' s partiality \n",
      "ght forward the affection of Mr . Willoughby , an equally striking opposition \n",
      "e more because he was slighted by Willoughby and Marianne , who , prejudiced a\n",
      "n is just the kind of man ,\" said Willoughby one day , when they were talking \n",
      "e is patronised by YOU ,\" replied Willoughby , \" is certainly in his favour ; \n",
      "sly informed .\" \" Perhaps ,\" said Willoughby , \" his observations may have ext\n",
      "heart .\" \" Miss Dashwood ,\" cried Willoughby , \" you are now using me unkindly\n",
      "ow . In every meeting of the kind Willoughby was included ; and the ease and f\n",
      "on - place and mistaken notions . Willoughby thought the same ; and their beha\n",
      "rianne . Her heart was devoted to Willoughby , and the fond attachment to Norl\n",
      "or give pleasure as a companion . Willoughby was out of the question . Her adm\n",
      " with the greatest delight , that Willoughby had given her a horse , one that \n",
      "n supposing I know very little of Willoughby . I have not known him long indee\n",
      "None\n",
      "\n",
      "### Similar\n",
      "marianne it her edward elinor them lucy you him she me he herself\n",
      "ferrars that which there fanny palmer robert\n",
      "It could not find similar words for Willoughby\n",
      "\n",
      "### Common Contextsx\n",
      "('The following word(s) were not found:', 'w i l l o u g h b y')\n",
      "It could not fine Common Context for Willoughby\n",
      "\n",
      "### Character Description\n",
      "Marianne\n",
      "\n",
      "### Concordance\n",
      "Displaying 25 of 566 matches:\n",
      " had resolved never to be taught . Marianne ' s abilities were , in many respe\n",
      "had already imbibed a good deal of Marianne ' s romance , without having much \n",
      "hing . \" In a few months , my dear Marianne .\" said she , \" Elinor will , in a\n",
      "d ' s heart . But you look grave , Marianne ; do you disapprove your sister ' \n",
      "er ' s choice ?\" \" Perhaps ,\" said Marianne , \" I may consider it with some su\n",
      "er ? In one circumstance only , my Marianne , may your destiny be different fr\n",
      "What a pity it is , Elinor ,\" said Marianne , \" that Edward should have no tas\n",
      "eral direct him perfectly right .\" Marianne was afraid of offending , and said\n",
      "ard which produced it . \" I hope , Marianne ,\" continued Elinor , \" you do not\n",
      "you could never be civil to him .\" Marianne hardly knew what to say . She woul\n",
      "ld express yourself more warmly .\" Marianne was rejoiced to find her sister so\n",
      "least , almost so . What say you , Marianne ?\" \" I shall very soon think him h\n",
      "ed greater certainty of it to make Marianne ' s conviction of their attachment\n",
      "eeable to her . She knew that what Marianne and her mother conjectured one mom\n",
      "reatly esteem , that I like him .\" Marianne here burst forth with indignation \n",
      "er a great fortune or high rank .\" Marianne was astonished to find how much th\n",
      "Edward in so prosperous a state as Marianne had believed it . There was , at t\n",
      "ks , with a handsome pianoforte of Marianne ' s . Mrs . John Dashwood saw the \n",
      "ed . \" Dear , dear Norland !\" said Marianne , as she wandered alone before the\n",
      "ions , to form themselves a home . Marianne ' s pianoforte was unpacked and pr\n",
      "em blush whether they did or not . Marianne was vexed at it for her sister ' s\n",
      "ite of his being in the opinion of Marianne and Margaret an absolute old bache\n",
      "o themselves . In the evening , as Marianne was discovered to be musical , she\n",
      " body prepared to be charmed , and Marianne , who sang very well , at their re\n",
      "d by her own was very fond of it . Marianne ' s performance was highly applaud\n",
      "None\n",
      "\n",
      "### Similar\n",
      "elinor it she he edward her lucy i me you willoughby them him they\n",
      "herself that all which what there\n",
      "It could not find similar words for Marianne\n",
      "\n",
      "### Common Contextsx\n",
      "('The following word(s) were not found:', 'm a r i a n n e')\n",
      "It could not fine Common Context for Marianne\n"
     ]
    }
   ],
   "source": [
    "describe_book(text2)\n",
    "\n",
    "describe_character(text2,'Elinor')\n",
    "describe_character(text2,'Edward')\n",
    "describe_character(text2,'Willoughby')\n",
    "describe_character(text2,'Marianne')"
   ]
  },
  {
   "cell_type": "code",
   "execution_count": 86,
   "metadata": {},
   "outputs": [
    {
     "name": "stdout",
     "output_type": "stream",
     "text": [
      "### Character List Dispersion plot\n"
     ]
    },
    {
     "data": {
      "image/png": "[encoded data removed]",
      "text/plain": [
       "<Figure size 432x288 with 1 Axes>"
      ]
     },
     "metadata": {
      "needs_background": "light"
     },
     "output_type": "display_data"
    }
   ],
   "source": [
    "dispersionplot_character_list(text2,character_list)"
   ]
  },
  {
   "cell_type": "code",
   "execution_count": 87,
   "metadata": {},
   "outputs": [
    {
     "name": "stdout",
     "output_type": "stream",
     "text": [
      "on_s and_s to_and replied_that of_s but_had said_in in_s to_s\n",
      "between_and to_she that_was which_had said_for as_and was_s what_had\n",
      "at_with oh_how said_that\n"
     ]
    }
   ],
   "source": [
    "pair1=['Elinor','Edward']\n",
    "pair2=['Elinor','Willoughby']\n",
    "pair3=['Marianne','Edward']\n",
    "pair4=['Marianne','Willoughby']\n",
    "\n",
    "text2.common_contexts(pair1)"
   ]
  },
  {
   "cell_type": "code",
   "execution_count": 88,
   "metadata": {},
   "outputs": [
    {
     "name": "stdout",
     "output_type": "stream",
     "text": [
      "and_s to_and of_s in_s to_s between_and that_was in_and is_said for_to\n",
      "what_had said_that by_and to_that to_for said_if than_s and_on\n",
      "heard_say and_and\n"
     ]
    }
   ],
   "source": [
    "text2.common_contexts(pair2)"
   ]
  },
  {
   "cell_type": "code",
   "execution_count": 89,
   "metadata": {},
   "outputs": [
    {
     "name": "stdout",
     "output_type": "stream",
     "text": [
      "of_s that_was of_and and_s in_s for_and on_s said_that which_had for_s\n",
      "said_to said_in that_should had_been between_and of_she after_was\n",
      "and_will on_and with_and\n"
     ]
    }
   ],
   "source": [
    "text2.common_contexts(pair3)"
   ]
  },
  {
   "cell_type": "code",
   "execution_count": 90,
   "metadata": {},
   "outputs": [
    {
     "name": "stdout",
     "output_type": "stream",
     "text": [
      "of_s that_was of_and and_s in_s for_and for_to said_that as_s for_s\n",
      "that_should than_s between_and what_s to_and by_who from_she\n",
      "though_was that_had to_from\n"
     ]
    }
   ],
   "source": [
    "text2.common_contexts(pair4)"
   ]
  },
  {
   "cell_type": "markdown",
   "metadata": {},
   "source": [
    "### Question 4\n",
    "\n",
    "En la primera oración del texto3 se crea la variable sent3 que la contiene. Ahora en el índice 1 de este arreglo sent3 nos da 'the', se expresaría sent3[1].\n",
    "\n",
    "a. ¿Cuáles son los índices de las otras dos ocurrencias de esta palabra en sent3?\n",
    "R// Los indice de las otras 2 ocurrencias de la palabra the son 5 y 8\n",
    "\n",
    "b. ¿Qué otros índices nos servirían para recuperar la misma información?\n",
    "R// Si es en todo el texto, se podrian usar otros 3623 indices distintos a 1\n"
   ]
  },
  {
   "cell_type": "code",
   "execution_count": null,
   "metadata": {},
   "outputs": [
    {
     "name": "stdout",
     "output_type": "stream",
     "text": [
      "The Book of Genesis\n",
      "44764\n",
      "Oracion de sent3\n",
      "['In', 'the', 'beginning', 'God', 'created', 'the', 'heaven', 'and', 'the', 'earth', '.']\n",
      "Print indice en index 1 of sent3\n",
      "the\n"
     ]
    }
   ],
   "source": [
    "print(text3.name)\n",
    "print(len(text3))\n",
    "\n",
    "sent3=text3[0:11]\n",
    "print('Oracion de sent3')\n",
    "print(sent3)\n",
    "\n",
    "print('Print indice en index 1 of sent3')\n",
    "print(sent3[1])\n",
    "\n",
    "#link support: https://khuyentran1401.github.io/Efficient_Python_tricks_and_tools_for_data_scientists/Chapter1/list/good_practices.html"
   ]
  },
  {
   "cell_type": "code",
   "execution_count": 147,
   "metadata": {},
   "outputs": [],
   "source": [
    "def finding_indexes_by_pattern(array_elements : list,pattern : str):\n",
    "    index_list = [idx for idx,word in enumerate(array_elements) if(word.startswith(pattern) != False)]\n",
    "    return(index_list)\n"
   ]
  },
  {
   "cell_type": "code",
   "execution_count": 152,
   "metadata": {},
   "outputs": [
    {
     "name": "stdout",
     "output_type": "stream",
     "text": [
      "Applying function in oracion 1 of text3\n",
      "\n",
      "Applying function in the whole text3\n",
      "3624\n"
     ]
    }
   ],
   "source": [
    "print('Applying function in oracion 1 of text3')\n",
    "finding_indexes_by_pattern(sent3,'the')\n",
    "\n",
    "print('\\nApplying function in the whole text3')\n",
    "print(len(finding_indexes_by_pattern(text3,'the')))"
   ]
  },
  {
   "cell_type": "markdown",
   "metadata": {},
   "source": [
    "### Question 5\n",
    "\n",
    "¿Cuál es la diferencia entre las líneas a y b? ¿Cuál dará un mayor valor? ¿Este caso es generalizable?\n",
    "\n",
    "a. >>> sorted(set(w.lower() for w in text1))\n",
    "\n",
    "b. >>> sorted(w.lower() for w in set(text1))\n"
   ]
  },
  {
   "cell_type": "code",
   "execution_count": null,
   "metadata": {},
   "outputs": [],
   "source": []
  },
  {
   "cell_type": "markdown",
   "metadata": {},
   "source": [
    "<br>"
   ]
  }
 ],
 "metadata": {
  "interpreter": {
   "hash": "fb528f20e68ad4d9a143d6a6610a5abe782fba969335472a5d2017558328b730"
  },
  "kernelspec": {
   "display_name": "Python 3 (ipykernel)",
   "language": "python",
   "name": "python3"
  },
  "language_info": {
   "codemirror_mode": {
    "name": "ipython",
    "version": 3
   },
   "file_extension": ".py",
   "mimetype": "text/x-python",
   "name": "python",
   "nbconvert_exporter": "python",
   "pygments_lexer": "ipython3",
   "version": "3.8.11"
  }
 },
 "nbformat": 4,
 "nbformat_minor": 4
}
