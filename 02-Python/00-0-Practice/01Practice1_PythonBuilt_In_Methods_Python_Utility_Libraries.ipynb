{
  "nbformat": 4,
  "nbformat_minor": 0,
  "metadata": {
    "colab": {
      "name": "01Practice1-PythonBuilt-In-Methods_Python-Utility-Libraries.ipynb",
      "private_outputs": true,
      "provenance": [],
      "collapsed_sections": []
    },
    "kernelspec": {
      "name": "python3",
      "display_name": "Python 3"
    },
    "language_info": {
      "name": "python"
    }
  },
  "cells": [
    {
      "cell_type": "markdown",
      "source": [
        "# Python Utility Libraries\n",
        "This chapter covers Python utility libraries such as collections, functools, itertools, and pydash."
      ],
      "metadata": {
        "id": "pE1FNbEys1Av"
      }
    },
    {
      "cell_type": "markdown",
      "source": [
        "## Reforzing Collections"
      ],
      "metadata": {
        "id": "WemM27i2ZDsL"
      }
    },
    {
      "cell_type": "markdown",
      "source": [
        "### 3.1.1. collections.Counter: Count The Occurrences of Items in a List"
      ],
      "metadata": {
        "id": "C7Sgxs0nPlnP"
      }
    },
    {
      "cell_type": "code",
      "source": [
        "\"\"\"\n",
        "Counting the occurrences of each item in a list using a for-loop is slow and inefficient.\n",
        "\"\"\""
      ],
      "metadata": {
        "id": "NxDnAFi7s4n3"
      },
      "execution_count": null,
      "outputs": []
    },
    {
      "cell_type": "code",
      "source": [
        "char_list = [\"a\", \"b\", \"c\", \"a\", \"d\", \"b\", \"b\"]"
      ],
      "metadata": {
        "id": "noa7ys3Ts5_o"
      },
      "execution_count": null,
      "outputs": []
    },
    {
      "cell_type": "code",
      "source": [
        "#making function for count dict, that is not efficient\n",
        "def custom_counter(list_: list):\n",
        "  char_counter = {}\n",
        "  for char in list_:\n",
        "    if char not in char_counter:\n",
        "      char_counter[char] = 1\n",
        "    else:\n",
        "      char_counter[char]+=1\n",
        "  \n",
        "  return(char_counter)"
      ],
      "metadata": {
        "id": "d1csIOzMmQlI"
      },
      "execution_count": null,
      "outputs": []
    },
    {
      "cell_type": "code",
      "source": [
        "#Using collections.Counter is more efficient, and all it takes is one line of code!"
      ],
      "metadata": {
        "id": "rPzMvt9wPyJy"
      },
      "execution_count": null,
      "outputs": []
    },
    {
      "cell_type": "code",
      "source": [
        "from collections import Counter\n",
        "Counter(char_list)"
      ],
      "metadata": {
        "id": "kZUqXrmoQVre"
      },
      "execution_count": null,
      "outputs": []
    },
    {
      "cell_type": "code",
      "source": [
        "#making function to compare\n",
        "import random\n",
        "numExp = 100\n",
        "#making list comprehension\n",
        "num_list = [random.randint(0,22) for _ in range(1000)]\n",
        "\n",
        "def compare(numExp):\n",
        "  from timeit import timeit\n",
        "\n",
        "  random.seed(0)\n",
        "  numExp = numExp\n",
        "\n",
        "  #getting two times to compare\n",
        "  #when using globals, we do not have to put variables as input of function\n",
        "  custom_time = timeit(\"custom_counter(num_list)\",globals=globals())\n",
        "  counter_time = timeit(\"Counter(num_list)\",globals=globals())\n",
        "  print(custom_time / counter_time)\n"
      ],
      "metadata": {
        "id": "zfHNNbzKQRA8"
      },
      "execution_count": null,
      "outputs": []
    },
    {
      "cell_type": "code",
      "source": [
        "compare(numExp)"
      ],
      "metadata": {
        "id": "VSKtmVjOQRDi"
      },
      "execution_count": null,
      "outputs": []
    },
    {
      "cell_type": "markdown",
      "source": [
        "### 3.1.3. Defaultdict: Return a Default Value When a Key is Not Available"
      ],
      "metadata": {
        "id": "j64Txr0_TBaj"
      }
    },
    {
      "cell_type": "code",
      "source": [
        "\"\"\"\n",
        "If you want to create a Python dictionary with default value, use defaultdict. \n",
        "When calling a key that is not in the dictionary, the default value is returned.\n",
        "\"\"\""
      ],
      "metadata": {
        "id": "sflcIE5HTCyP"
      },
      "execution_count": null,
      "outputs": []
    },
    {
      "cell_type": "code",
      "source": [
        "from collections import defaultdict"
      ],
      "metadata": {
        "id": "pMmf-qaLTC07"
      },
      "execution_count": null,
      "outputs": []
    },
    {
      "cell_type": "code",
      "source": [
        "print(\"In order to return default value, class defaultdict has to be used as the following: defaultdict(lambda: \\'Exciting\\')\")\n",
        "classes = defaultdict(lambda: \"Exciting\")\n",
        "classes[\"Math\"] = \"B23\"\n",
        "classes[\"Indian\"] = \"D24\"\n",
        "\n",
        "print(f'Printing for Math: {classes[\"Math\"]}')\n",
        "\n",
        "print(f'Printing for New Job: {classes[\"New Job\"]}')"
      ],
      "metadata": {
        "id": "nkoT0434TLHw"
      },
      "execution_count": null,
      "outputs": []
    },
    {
      "cell_type": "markdown",
      "source": [
        "### 3.1.4. Defaultdict: Create a Dictionary with Values that are List"
      ],
      "metadata": {
        "id": "INxnfd0STorK"
      }
    },
    {
      "cell_type": "code",
      "source": [
        "\"\"\"\n",
        "If you want to create a dictionary with the values that are list, \n",
        "the cleanest way is to pass a list class to a defaultdict.\n",
        "\n",
        "Good Point this\n",
        "\"\"\""
      ],
      "metadata": {
        "id": "AXdR_HZgTqno"
      },
      "execution_count": null,
      "outputs": []
    },
    {
      "cell_type": "code",
      "source": [
        "from collections import defaultdict"
      ],
      "metadata": {
        "id": "O_QvelgVTqpw"
      },
      "execution_count": null,
      "outputs": []
    },
    {
      "cell_type": "code",
      "source": [
        "print('Instead of using the following code : food_price = {\"apple\": [], \"orange\": []}')\n",
        "food_price_notgood = {'apple':[],\"orange\":[]}\n",
        "food_price_notgood"
      ],
      "metadata": {
        "id": "Grf8-wg8T09s"
      },
      "execution_count": null,
      "outputs": []
    },
    {
      "cell_type": "code",
      "source": [
        "print('It is better to use: food_price_good = defaultdict(list)')\n",
        "\n",
        "food_price_good = defaultdict(list)\n",
        "for i in range(1,4):\n",
        "  food_price_good[\"isobar\"].append(i)\n",
        "  food_price_good[\"dentsu\"].append(i)\n",
        "\n",
        "print(\"We can print using dict.items()\")\n",
        "print(food_price_good.items())"
      ],
      "metadata": {
        "id": "yeWCQnf9UK_L"
      },
      "execution_count": null,
      "outputs": []
    },
    {
      "cell_type": "markdown",
      "source": [
        "### 3.1.2. namedtuple: A Lightweight Python Structure to Mange your Data"
      ],
      "metadata": {
        "id": "UPQgzIa9uq3h"
      }
    },
    {
      "cell_type": "code",
      "source": [
        "\"\"\"\n",
        "If you need a small class to manage data in your project, consider using namedtuple.\n",
        "\n",
        "namedtuple object is like a tuple but can be used as a normal Python class.\n",
        "\n",
        "In the code below, I use namedtuple to create a Person object with attributes name and gender.\n",
        "\"\"\""
      ],
      "metadata": {
        "id": "CWix8A21uuH2"
      },
      "execution_count": null,
      "outputs": []
    },
    {
      "cell_type": "code",
      "source": [
        "import collections\n",
        "dir(collections)"
      ],
      "metadata": {
        "id": "deJQmzHJvJWv"
      },
      "execution_count": null,
      "outputs": []
    },
    {
      "cell_type": "code",
      "source": [
        "# importing namedtuple from collections\n",
        "from collections import namedtuple"
      ],
      "metadata": {
        "id": "a5qr_qb7uuKG"
      },
      "execution_count": null,
      "outputs": []
    },
    {
      "cell_type": "code",
      "source": [
        "# Defining properties of class\n",
        "Company = namedtuple(\"Company\",\"name sector\")"
      ],
      "metadata": {
        "id": "duaspJDLuuQf"
      },
      "execution_count": null,
      "outputs": []
    },
    {
      "cell_type": "code",
      "source": [
        "Company"
      ],
      "metadata": {
        "id": "HjbAfjLuwLHg"
      },
      "execution_count": null,
      "outputs": []
    },
    {
      "cell_type": "code",
      "source": [
        "isobar = Company(\"Isobar\",\"Tech\")\n",
        "cenicana = Company(\"Cenicana\",\"Agriculture\")"
      ],
      "metadata": {
        "id": "B3T-KPeTv87y"
      },
      "execution_count": null,
      "outputs": []
    },
    {
      "cell_type": "code",
      "source": [
        "isobar"
      ],
      "metadata": {
        "id": "WOhUPw9Nu1kQ"
      },
      "execution_count": null,
      "outputs": []
    },
    {
      "cell_type": "code",
      "source": [
        "cenicana"
      ],
      "metadata": {
        "id": "mYILa9jcwnJM"
      },
      "execution_count": null,
      "outputs": []
    },
    {
      "cell_type": "markdown",
      "source": [
        "## Reforzing Itertools\n",
        "\n",
        "itertools is a built-in Python library that creates iterators for efficient looping. This section will show you some useful methods of itertools."
      ],
      "metadata": {
        "id": "pqIX6Du3s7Uq"
      }
    },
    {
      "cell_type": "code",
      "source": [
        "import itertools\n",
        "dir(itertools)"
      ],
      "metadata": {
        "id": "pX-tZlXWz8On"
      },
      "execution_count": null,
      "outputs": []
    },
    {
      "cell_type": "markdown",
      "source": [
        "### 3.2.1. itertools.combinations: A Better Way to Iterate Through a Pair of Values in a Python List\n",
        "\n",
        "If you want to iterate through a pair of values in a list and the order does not matter ((a,b) is the same as (b, a)), a naive approach is to use two for-loops."
      ],
      "metadata": {
        "id": "q2jXu-sDxAT2"
      }
    },
    {
      "cell_type": "code",
      "source": [
        "# example list \n",
        "num_list = list(range(1,10))\n",
        "print(f'Using the following list as example: {num_list}')"
      ],
      "metadata": {
        "id": "oqEfxeGos92Z"
      },
      "execution_count": null,
      "outputs": []
    },
    {
      "cell_type": "code",
      "source": [
        "print(\"This is an example of a naive approach\")\n",
        "for idx,i in enumerate(num_list):\n",
        "  for idj,j in enumerate(num_list):\n",
        "    if i < j:\n",
        "      #making tuple and printing it\n",
        "      print(idx,idj, (i,j))"
      ],
      "metadata": {
        "id": "Fl9oKd3Bs-sY"
      },
      "execution_count": null,
      "outputs": []
    },
    {
      "cell_type": "markdown",
      "source": [
        "However, using two for-loops is lengthy and inefficient. Use itertools.combinations instead:\n",
        "\n"
      ],
      "metadata": {
        "id": "BXB7Bbt5x_p8"
      }
    },
    {
      "cell_type": "code",
      "source": [
        "print(itertools.combinations.__doc__)"
      ],
      "metadata": {
        "id": "SAYuhURIyF05"
      },
      "execution_count": null,
      "outputs": []
    },
    {
      "cell_type": "code",
      "source": [
        "from itertools import combinations"
      ],
      "metadata": {
        "id": "9S7DJdYQyC55"
      },
      "execution_count": null,
      "outputs": []
    },
    {
      "cell_type": "code",
      "source": [
        "#creating object comb\n",
        "tuple_len = 2\n",
        "trial_comb = combinations(num_list,tuple_len)\n",
        "print(f'Type object of trial_comb is: {type(trial_comb)}')\n",
        "dir(trial_comb)"
      ],
      "metadata": {
        "id": "WQf0GMJDyC9u"
      },
      "execution_count": null,
      "outputs": []
    },
    {
      "cell_type": "code",
      "source": [
        "for pair in list(trial_comb):\n",
        "  print(pair)"
      ],
      "metadata": {
        "id": "dh0m9rVizeKb"
      },
      "execution_count": null,
      "outputs": []
    },
    {
      "cell_type": "markdown",
      "source": [
        "### 3.2.2. itertools.product: Nested For-Loops in a Generator Expression\n",
        "\n",
        "Are you using nested for-loops to experiment with different combinations of parameters? If so, use itertools.product instead.\n",
        "\n",
        "itertools.product is more efficient than nested loop because product(A, B) returns the same as ((x,y) for x in A for y in B)."
      ],
      "metadata": {
        "id": "gatwMxw00Axk"
      }
    },
    {
      "cell_type": "code",
      "source": [
        "from itertools import product"
      ],
      "metadata": {
        "id": "8_7sYCrR0BCx"
      },
      "execution_count": null,
      "outputs": []
    },
    {
      "cell_type": "code",
      "source": [
        "dir(product)\n",
        "print(product.__doc__)"
      ],
      "metadata": {
        "id": "pzpAkcfH0BFH"
      },
      "execution_count": null,
      "outputs": []
    },
    {
      "cell_type": "code",
      "source": [
        "#making dict with parameters of two matrices A and B to put in product\n",
        "trial_params = {\n",
        "    \"learning_rate\":[1e-1, 1e-2, 1e-3],\n",
        "    \"batch_size\":[16, 32, 64],\n",
        "}\n",
        "\n",
        "print(f'This is the trial dict of parameters to use in product {trial_params}')\n",
        "print(f'The keys of trial dict are: {trial_params.keys()}')\n",
        "print(f'The values of trial dict are: {trial_params.values()}')"
      ],
      "metadata": {
        "id": "jk-AqX7H5SxO"
      },
      "execution_count": null,
      "outputs": []
    },
    {
      "cell_type": "code",
      "source": [
        "## Making the product with method product in for loop\n",
        "for vals in product(*trial_params.values()):\n",
        "  print(vals)\n",
        "  #creating combination\n",
        "  temp_comb = dict(zip(trial_params.keys(),vals))\n",
        "  print(temp_comb)"
      ],
      "metadata": {
        "id": "-Keq7Z895Szw"
      },
      "execution_count": null,
      "outputs": []
    },
    {
      "cell_type": "markdown",
      "source": [
        "### 3.2.3. itertools.starmap: Apply a Function With More Than 2 Arguments to Elements in a List\n",
        "\n",
        "map is a useful method that allows you to apply a function to elements in a list. However, it can’t apply a function with more than one argument to a list.\n",
        "\n",
        "But,\n",
        "\n",
        "To apply a function with more than 2 arguments to elements in a list, use itertools.starmap. With starmap, elements in each tuple of the list nums are used as arguments for the function multiply."
      ],
      "metadata": {
        "id": "wS1BQMCq0EI5"
      }
    },
    {
      "cell_type": "code",
      "source": [
        "# making trial funciton in order to use starmap\n",
        "def multiply(x: float, y: float):\n",
        "    return x * y"
      ],
      "metadata": {
        "id": "jHZ1ABzG0EtU"
      },
      "execution_count": null,
      "outputs": []
    },
    {
      "cell_type": "code",
      "source": [
        "list1 = list(range(0,5))\n",
        "list2 = list(range(5,10))\n",
        "print(f'Lists of example to make list of tuples: {list1,list2}')\n",
        "\n",
        "data = list(zip(list1,list2))\n",
        "print(f'list of tuples: {data}')"
      ],
      "metadata": {
        "id": "gaewaWIl0Evt"
      },
      "execution_count": null,
      "outputs": []
    },
    {
      "cell_type": "code",
      "source": [
        "#using map and list\n",
        "print(map.__doc__)"
      ],
      "metadata": {
        "id": "HBSm3seg0E1G"
      },
      "execution_count": null,
      "outputs": []
    },
    {
      "cell_type": "code",
      "source": [
        "list(map(multiply,data))"
      ],
      "metadata": {
        "id": "mm8dIOkQ9OR5"
      },
      "execution_count": null,
      "outputs": []
    },
    {
      "cell_type": "code",
      "source": [
        "dir(starmap)"
      ],
      "metadata": {
        "id": "CmqrgEwX9UK3"
      },
      "execution_count": null,
      "outputs": []
    },
    {
      "cell_type": "code",
      "source": [
        "from itertools import starmap\n",
        "print(f'list of tuples: {data} working with function multiply that is being execute with startmap ')\n",
        "list(starmap(multiply,data))"
      ],
      "metadata": {
        "id": "ld0Dk_Ac9Pqn"
      },
      "execution_count": null,
      "outputs": []
    },
    {
      "cell_type": "markdown",
      "source": [
        "### 3.2.4. itertools.compress: Filter a List Using Booleans"
      ],
      "metadata": {
        "id": "6XgCKKkC0IOT"
      }
    },
    {
      "cell_type": "code",
      "source": [
        ""
      ],
      "metadata": {
        "id": "fSbr7XJB0IhJ"
      },
      "execution_count": null,
      "outputs": []
    },
    {
      "cell_type": "code",
      "source": [
        ""
      ],
      "metadata": {
        "id": "X67uqtRA0Iks"
      },
      "execution_count": null,
      "outputs": []
    },
    {
      "cell_type": "markdown",
      "source": [
        "### 3.2.5. itertools.groupby: Group Elements in an Iterable by a Key"
      ],
      "metadata": {
        "id": "ROwmZFqt0OGX"
      }
    },
    {
      "cell_type": "code",
      "source": [
        ""
      ],
      "metadata": {
        "id": "u03oovyF0O-B"
      },
      "execution_count": null,
      "outputs": []
    },
    {
      "cell_type": "code",
      "source": [
        ""
      ],
      "metadata": {
        "id": "lYDlDZtz0O_v"
      },
      "execution_count": null,
      "outputs": []
    },
    {
      "cell_type": "code",
      "source": [
        ""
      ],
      "metadata": {
        "id": "2S1f8nR-0PCl"
      },
      "execution_count": null,
      "outputs": []
    },
    {
      "cell_type": "markdown",
      "source": [
        "### 3.2.6. itertools.zip_longest: Zip Iterables of Different Lengths"
      ],
      "metadata": {
        "id": "UOMQ59DN0P0m"
      }
    },
    {
      "cell_type": "code",
      "source": [
        ""
      ],
      "metadata": {
        "id": "IT9KBG8A0Qyo"
      },
      "execution_count": null,
      "outputs": []
    },
    {
      "cell_type": "code",
      "source": [
        ""
      ],
      "metadata": {
        "id": "k69I4axu0Q3b"
      },
      "execution_count": null,
      "outputs": []
    },
    {
      "cell_type": "markdown",
      "source": [
        "## Reforzing Functools"
      ],
      "metadata": {
        "id": "3MYQ6FmAs_qz"
      }
    },
    {
      "cell_type": "code",
      "source": [
        ""
      ],
      "metadata": {
        "id": "GEr50RvktCGB"
      },
      "execution_count": null,
      "outputs": []
    },
    {
      "cell_type": "code",
      "source": [
        ""
      ],
      "metadata": {
        "id": "1cZL-1YztCvk"
      },
      "execution_count": null,
      "outputs": []
    },
    {
      "cell_type": "code",
      "source": [
        ""
      ],
      "metadata": {
        "id": "v00GbTk3tC1u"
      },
      "execution_count": null,
      "outputs": []
    },
    {
      "cell_type": "markdown",
      "source": [
        "## Reforzing Operator"
      ],
      "metadata": {
        "id": "LQQt3WIntEQC"
      }
    },
    {
      "cell_type": "code",
      "source": [
        ""
      ],
      "metadata": {
        "id": "KKNbVfnRtKzt"
      },
      "execution_count": null,
      "outputs": []
    },
    {
      "cell_type": "code",
      "source": [
        ""
      ],
      "metadata": {
        "id": "lOtOvxUntLKx"
      },
      "execution_count": null,
      "outputs": []
    },
    {
      "cell_type": "code",
      "source": [
        ""
      ],
      "metadata": {
        "id": "PevfSmgetLOK"
      },
      "execution_count": null,
      "outputs": []
    }
  ]
}