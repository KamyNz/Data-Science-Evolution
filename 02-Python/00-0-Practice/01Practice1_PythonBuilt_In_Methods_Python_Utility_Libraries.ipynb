{
  "nbformat": 4,
  "nbformat_minor": 0,
  "metadata": {
    "colab": {
      "name": "01Practice1-PythonBuilt-In-Methods_Python-Utility-Libraries.ipynb",
      "private_outputs": true,
      "provenance": [],
      "collapsed_sections": []
    },
    "kernelspec": {
      "name": "python3",
      "display_name": "Python 3"
    },
    "language_info": {
      "name": "python"
    }
  },
  "cells": [
    {
      "cell_type": "markdown",
      "source": [
        "# Python Utility Libraries\n",
        "This chapter covers Python utility libraries such as collections, functools, itertools, and pydash."
      ],
      "metadata": {
        "id": "pE1FNbEys1Av"
      }
    },
    {
      "cell_type": "markdown",
      "source": [
        "## Reforzing Collections"
      ],
      "metadata": {
        "id": "WemM27i2ZDsL"
      }
    },
    {
      "cell_type": "markdown",
      "source": [
        "### 3.1.1. collections.Counter: Count The Occurrences of Items in a List"
      ],
      "metadata": {
        "id": "C7Sgxs0nPlnP"
      }
    },
    {
      "cell_type": "code",
      "source": [
        "\"\"\"\n",
        "Counting the occurrences of each item in a list using a for-loop is slow and inefficient.\n",
        "\"\"\""
      ],
      "metadata": {
        "id": "NxDnAFi7s4n3"
      },
      "execution_count": null,
      "outputs": []
    },
    {
      "cell_type": "code",
      "source": [
        "char_list = [\"a\", \"b\", \"c\", \"a\", \"d\", \"b\", \"b\"]"
      ],
      "metadata": {
        "id": "noa7ys3Ts5_o"
      },
      "execution_count": null,
      "outputs": []
    },
    {
      "cell_type": "code",
      "source": [
        "#making function for count dict, that is not efficient\n",
        "def custom_counter(list_: list):\n",
        "  char_counter = {}\n",
        "  for char in list_:\n",
        "    if char not in char_counter:\n",
        "      char_counter[char] = 1\n",
        "    else:\n",
        "      char_counter[char]+=1\n",
        "  \n",
        "  return(char_counter)"
      ],
      "metadata": {
        "id": "d1csIOzMmQlI"
      },
      "execution_count": null,
      "outputs": []
    },
    {
      "cell_type": "code",
      "source": [
        "#Using collections.Counter is more efficient, and all it takes is one line of code!"
      ],
      "metadata": {
        "id": "rPzMvt9wPyJy"
      },
      "execution_count": null,
      "outputs": []
    },
    {
      "cell_type": "code",
      "source": [
        "from collections import Counter\n",
        "Counter(char_list)"
      ],
      "metadata": {
        "id": "kZUqXrmoQVre"
      },
      "execution_count": null,
      "outputs": []
    },
    {
      "cell_type": "code",
      "source": [
        "#making function to compare\n",
        "import random\n",
        "numExp = 100\n",
        "#making list comprehension\n",
        "num_list = [random.randint(0,22) for _ in range(1000)]\n",
        "\n",
        "def compare(numExp):\n",
        "  from timeit import timeit\n",
        "\n",
        "  random.seed(0)\n",
        "  numExp = numExp\n",
        "\n",
        "  #getting two times to compare\n",
        "  #when using globals, we do not have to put variables as input of function\n",
        "  custom_time = timeit(\"custom_counter(num_list)\",globals=globals())\n",
        "  counter_time = timeit(\"Counter(num_list)\",globals=globals())\n",
        "  print(custom_time / counter_time)\n"
      ],
      "metadata": {
        "id": "zfHNNbzKQRA8"
      },
      "execution_count": null,
      "outputs": []
    },
    {
      "cell_type": "code",
      "source": [
        "compare(numExp)"
      ],
      "metadata": {
        "id": "VSKtmVjOQRDi"
      },
      "execution_count": null,
      "outputs": []
    },
    {
      "cell_type": "markdown",
      "source": [
        "### 3.1.3. Defaultdict: Return a Default Value When a Key is Not Available"
      ],
      "metadata": {
        "id": "j64Txr0_TBaj"
      }
    },
    {
      "cell_type": "code",
      "source": [
        "\"\"\"\n",
        "If you want to create a Python dictionary with default value, use defaultdict. \n",
        "When calling a key that is not in the dictionary, the default value is returned.\n",
        "\"\"\""
      ],
      "metadata": {
        "id": "sflcIE5HTCyP"
      },
      "execution_count": null,
      "outputs": []
    },
    {
      "cell_type": "code",
      "source": [
        "from collections import defaultdict"
      ],
      "metadata": {
        "id": "pMmf-qaLTC07"
      },
      "execution_count": null,
      "outputs": []
    },
    {
      "cell_type": "code",
      "source": [
        "classes = defaultdict(lambda: \"Exciting\")\n",
        "classes[\"Math\"] = \"B23\"\n",
        "classes[\"Indian\"] = \"D24\"\n",
        "\n",
        "print(f'Printing for Math: {classes[\"Math\"]}')\n",
        "\n",
        "print(f'Printing for New Job: {classes[\"New Job\"]}')"
      ],
      "metadata": {
        "id": "nkoT0434TLHw"
      },
      "execution_count": null,
      "outputs": []
    },
    {
      "cell_type": "markdown",
      "source": [
        "### 3.1.4. Defaultdict: Create a Dictionary with Values that are List"
      ],
      "metadata": {
        "id": "INxnfd0STorK"
      }
    },
    {
      "cell_type": "code",
      "source": [
        "\"\"\"\n",
        "If you want to create a dictionary with the values that are list, \n",
        "the cleanest way is to pass a list class to a defaultdict.\n",
        "\n",
        "Good Point this\n",
        "\"\"\""
      ],
      "metadata": {
        "id": "AXdR_HZgTqno"
      },
      "execution_count": null,
      "outputs": []
    },
    {
      "cell_type": "code",
      "source": [
        "from collections import defaultdict"
      ],
      "metadata": {
        "id": "O_QvelgVTqpw"
      },
      "execution_count": null,
      "outputs": []
    },
    {
      "cell_type": "code",
      "source": [
        "print('Instead of using the following code : food_price = {\"apple\": [], \"orange\": []}')\n",
        "food_price_notgood = {'apple':[],\"orange\":[]}\n",
        "food_price_notgood"
      ],
      "metadata": {
        "id": "Grf8-wg8T09s"
      },
      "execution_count": null,
      "outputs": []
    },
    {
      "cell_type": "code",
      "source": [
        "print('It is better to use: food_price_good = defaultdict(list)')\n",
        "\n",
        "food_price_good = defaultdict(list)\n",
        "for i in range(1,4):\n",
        "  food_price_good[\"isobar\"].append(i)\n",
        "  food_price_good[\"dentsu\"].append(i)\n",
        "\n",
        "print(\"We can print using dict.items()\")\n",
        "print(food_price_good.items())"
      ],
      "metadata": {
        "id": "yeWCQnf9UK_L"
      },
      "execution_count": null,
      "outputs": []
    },
    {
      "cell_type": "code",
      "source": [
        ""
      ],
      "metadata": {
        "id": "UEcn5GivULBW"
      },
      "execution_count": null,
      "outputs": []
    },
    {
      "cell_type": "code",
      "source": [
        ""
      ],
      "metadata": {
        "id": "ZJapQBtIT0_1"
      },
      "execution_count": null,
      "outputs": []
    },
    {
      "cell_type": "markdown",
      "source": [
        "## Reforzing Itertools"
      ],
      "metadata": {
        "id": "pqIX6Du3s7Uq"
      }
    },
    {
      "cell_type": "code",
      "source": [
        ""
      ],
      "metadata": {
        "id": "oqEfxeGos92Z"
      },
      "execution_count": null,
      "outputs": []
    },
    {
      "cell_type": "code",
      "source": [
        ""
      ],
      "metadata": {
        "id": "Fl9oKd3Bs-sY"
      },
      "execution_count": null,
      "outputs": []
    },
    {
      "cell_type": "code",
      "source": [
        ""
      ],
      "metadata": {
        "id": "ay0lbStbs-ve"
      },
      "execution_count": null,
      "outputs": []
    },
    {
      "cell_type": "code",
      "source": [
        ""
      ],
      "metadata": {
        "id": "mk9zqzdps-yM"
      },
      "execution_count": null,
      "outputs": []
    },
    {
      "cell_type": "markdown",
      "source": [
        "## Reforzing PyDash"
      ],
      "metadata": {
        "id": "3MYQ6FmAs_qz"
      }
    },
    {
      "cell_type": "code",
      "source": [
        ""
      ],
      "metadata": {
        "id": "GEr50RvktCGB"
      },
      "execution_count": null,
      "outputs": []
    },
    {
      "cell_type": "code",
      "source": [
        ""
      ],
      "metadata": {
        "id": "1cZL-1YztCvk"
      },
      "execution_count": null,
      "outputs": []
    },
    {
      "cell_type": "code",
      "source": [
        ""
      ],
      "metadata": {
        "id": "v00GbTk3tC1u"
      },
      "execution_count": null,
      "outputs": []
    },
    {
      "cell_type": "markdown",
      "source": [
        "## Reforzing Operator"
      ],
      "metadata": {
        "id": "LQQt3WIntEQC"
      }
    },
    {
      "cell_type": "code",
      "source": [
        ""
      ],
      "metadata": {
        "id": "KKNbVfnRtKzt"
      },
      "execution_count": null,
      "outputs": []
    },
    {
      "cell_type": "code",
      "source": [
        ""
      ],
      "metadata": {
        "id": "lOtOvxUntLKx"
      },
      "execution_count": null,
      "outputs": []
    },
    {
      "cell_type": "code",
      "source": [
        ""
      ],
      "metadata": {
        "id": "PevfSmgetLOK"
      },
      "execution_count": null,
      "outputs": []
    }
  ]
}