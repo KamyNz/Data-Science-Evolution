{
  "nbformat": 4,
  "nbformat_minor": 0,
  "metadata": {
    "colab": {
      "name": "00Practice1-PythonBuilt-In-Methods_V1.ipynb",
      "private_outputs": true,
      "provenance": [],
      "collapsed_sections": [],
      "toc_visible": true
    },
    "kernelspec": {
      "name": "python3",
      "display_name": "Python 3"
    },
    "language_info": {
      "name": "python"
    }
  },
  "cells": [
    {
      "cell_type": "markdown",
      "source": [
        "## Reforzing Strings"
      ],
      "metadata": {
        "id": "bSGjIhAVu3ZT"
      }
    },
    {
      "cell_type": "code",
      "execution_count": null,
      "metadata": {
        "id": "uZQ7-bIi1toJ"
      },
      "outputs": [],
      "source": [
        "# Positive case:\n",
        "sentence = \"Today is Saturday\"\n",
        "\n",
        "# Find instance of first ocurrence of substring\n",
        "res1 = sentence.find(\"day\")\n",
        "\n",
        "# Negative case:\n",
        "res2 = sentence.find('nice')\n",
        "print(res1)\n",
        "print(res2)\n",
        "\n",
        "# Understanding: If you want to find the index of a substring in a string, use find() method. This method will return the index of \n",
        "# the first occurrence of the substring if found and return -1 otherwise.\n",
        "\n",
        "# Start searching for pattern from specific position\n",
        "res3 = sentence.find(\"day\",3)\n",
        "print(res3)\n",
        "\n",
        "print(sentence[res3:])"
      ]
    },
    {
      "cell_type": "code",
      "source": [
        "# 2.1.2. re.sub: Replace One String with Another String Using Regular Expression\n",
        "#re.sub allows you to use a regular expression to specify the pattern of the string you want to swap.\n",
        "#In the code below, I replace 3/7/2021 with Sunday \n",
        "\n",
        "import re\n",
        "\n",
        "text = \"Today is 3/7/2021\"\n",
        "match_pattern = r\"(\\d+)/(\\d+)/(\\d+)\"\n",
        "\n",
        "re.sub(match_pattern, \"Sunday\",text)\n",
        "\n",
        "#replace 3/7/2021 with 2021/3/7., Transponiendo posiciones\n",
        "re.sub(match_pattern,r\"\\3-\\1-\\2\",text)\n"
      ],
      "metadata": {
        "id": "a1mf81x62S0W"
      },
      "execution_count": null,
      "outputs": []
    },
    {
      "cell_type": "code",
      "source": [
        "#2.1.3. difflib.SequenceMatcher: Detect The “Almost Similar” Articles\n",
        "#How can we detect the “almost similar” articles and drop one of them? That is when difflib.SequenceMatcher comes in handy.\n",
        "\n",
        "from difflib import SequenceMatcher\n",
        "\n",
        "text1=\"I am Khuyen\"\n",
        "text2=\"I am Khuen\"\n",
        "\n",
        "print(SequenceMatcher(a=text1,b=text2).ratio())"
      ],
      "metadata": {
        "id": "FMIdlhhZ3nOJ"
      },
      "execution_count": null,
      "outputs": []
    },
    {
      "cell_type": "code",
      "source": [
        "dir(SequenceMatcher)"
      ],
      "metadata": {
        "id": "EtA8LJNwKkNF"
      },
      "execution_count": null,
      "outputs": []
    },
    {
      "cell_type": "code",
      "source": [
        "#2.1.4. difflib.get_close_matches: Get a List of the Best Matches for a Certain Word\n",
        "#If you want to get a list of the best matches for a certain word, use difflib.get_close_matches.\n",
        "\n",
        "from difflib import get_close_matches\n",
        "\n",
        "# List of words\n",
        "tools = ['pencil','pen','erasor','ink']\n",
        "\n",
        "# List of results\n",
        "get_close_matches('pencel',tools)\n"
      ],
      "metadata": {
        "id": "Ra2VRGBAL8zc"
      },
      "execution_count": null,
      "outputs": []
    },
    {
      "cell_type": "markdown",
      "source": [
        "### Teniendo en cuenta link: https://rushter.com/blog/python-class-internals/\n"
      ],
      "metadata": {
        "id": "pufHhcvPM5Lw"
      }
    },
    {
      "cell_type": "code",
      "source": [
        "\n",
        "# Understanding Python Class Internals\n",
        "print(SequenceMatcher.__dict__['__doc__'])"
      ],
      "metadata": {
        "id": "bx2PgX5xKzLt"
      },
      "execution_count": null,
      "outputs": []
    },
    {
      "cell_type": "code",
      "source": [
        ""
      ],
      "metadata": {
        "id": "HghRn6g8MXO1"
      },
      "execution_count": null,
      "outputs": []
    },
    {
      "cell_type": "markdown",
      "source": [
        "## Reforzing Numbers"
      ],
      "metadata": {
        "id": "M4TECy1QvEyc"
      }
    },
    {
      "cell_type": "code",
      "source": [
        "# 2.2.1. fractions: Get Numerical Results in Fractions Instead of Decimals\n",
        "\n",
        "from fractions import Fraction\n",
        "res1 = (2/(3+1))\n",
        "\n",
        "res2 = Fraction(2/3+1)\n",
        "\n",
        "#resultado 1\n",
        "print(\"Resultado 1\")\n",
        "print(res1)\n",
        "#resultado 2\n",
        "print(\"Resultado 2\")\n",
        "print(res2)\n"
      ],
      "metadata": {
        "id": "j2enPLaYvGRm"
      },
      "execution_count": null,
      "outputs": []
    },
    {
      "cell_type": "code",
      "source": [
        "#Cool! We got a fraction instead of a decimal. To limit the number of decimals displayed, use limit_denominator().\n",
        "res2_denominator = res2.limit_denominator()\n",
        "print(res2_denominator)"
      ],
      "metadata": {
        "id": "R3y932EczVu4"
      },
      "execution_count": null,
      "outputs": []
    },
    {
      "cell_type": "code",
      "source": [
        "#If we divide the result we got from Fraction by another number, we got back a fraction without using the Fraction object again.\n",
        "print(res2_denominator / 3)\n"
      ],
      "metadata": {
        "id": "eucYZxCNz72i"
      },
      "execution_count": null,
      "outputs": []
    },
    {
      "cell_type": "code",
      "source": [
        "#2.2.2. How to Use Underscores to Format Large Numbers in Python\n",
        "large_num = 1_000_000\n",
        "large_num"
      ],
      "metadata": {
        "id": "v1-QaqL-3Qva"
      },
      "execution_count": null,
      "outputs": []
    },
    {
      "cell_type": "code",
      "source": [
        "#2.2.3. Confirm Whether a Variable Is a Number\n",
        "from numbers import Number\n",
        "a = 2\n",
        "b = 0.4\n",
        "c = \"text\"\n",
        "\n",
        "\n",
        "# check if instance is number\n",
        "print(f'Checking {a} as Number')\n",
        "print(isinstance(a, Number))\n",
        "print(f'Checking {b} as Number')\n",
        "print(isinstance(b,Number))\n",
        "print(f'Checking {c} as Number')\n",
        "print(isinstance(c,Number))"
      ],
      "metadata": {
        "id": "y4gGHAnW6ngY"
      },
      "execution_count": null,
      "outputs": []
    },
    {
      "cell_type": "code",
      "source": [
        "#2.2.4. Get Multiples of a Number Using Modulus\n",
        "#If you want to get multiples of a number, use the modulus operator %. The modulus operator \n",
        "#is used to get the remainder of a division. For example, 4 % 3 = 1, 5 % 3 = 2.\n",
        "\n",
        "def get_multiples_of_n(nums: list, n: int):\n",
        "  \"\"\"Select only numbers whose remainders are 0 when dividing them by n\n",
        "  \"\"\"\n",
        "  # using nested list with for\n",
        "  result_list = [number for number in nums if number % n == 0]\n",
        "  return(result_list)"
      ],
      "metadata": {
        "id": "rWlO-DhM6unU"
      },
      "execution_count": null,
      "outputs": []
    },
    {
      "cell_type": "code",
      "source": [
        "nums = [1, 4, 9, 12, 15, 16]"
      ],
      "metadata": {
        "id": "NCIxytzy7mhw"
      },
      "execution_count": null,
      "outputs": []
    },
    {
      "cell_type": "code",
      "source": [
        "get_multiples_of_n(nums,4) # multiples of 4"
      ],
      "metadata": {
        "id": "_AEoMEGL8fKm"
      },
      "execution_count": null,
      "outputs": []
    },
    {
      "cell_type": "code",
      "source": [
        "get_multiples_of_n(nums,3) # multiples of 3"
      ],
      "metadata": {
        "id": "wt-qbf8G8ibd"
      },
      "execution_count": null,
      "outputs": []
    },
    {
      "cell_type": "code",
      "source": [
        "get_multiples_of_n(nums,2) # multiples of 2"
      ],
      "metadata": {
        "id": "Q_jRixGJ8tRD"
      },
      "execution_count": null,
      "outputs": []
    },
    {
      "cell_type": "markdown",
      "source": [
        "# Good Practices with Lists"
      ],
      "metadata": {
        "id": "qTvVp_-nG1H8"
      }
    },
    {
      "cell_type": "code",
      "source": [
        "#2.3.1.1. Stop using = operator to create a copy of a Python list. Use copy method instead\n",
        "\n",
        "list1= [1,2,3]\n",
        "list2 = list1\n",
        "list2.append(4)\n",
        "\n",
        "print(list1)\n",
        "print(list2)\n"
      ],
      "metadata": {
        "id": "ML1k8OKfG0-d"
      },
      "execution_count": null,
      "outputs": []
    },
    {
      "cell_type": "code",
      "source": [
        "#Instead of using = operator, use copy() method. Now your old list will not change when you change your new list.\n",
        "l1 = [1,2,3]\n",
        "l2 = l1.copy()\n",
        "l2.append(4)\n",
        "\n",
        "print(l1)\n",
        "print(l2)"
      ],
      "metadata": {
        "id": "3lUQIlF88wRe"
      },
      "execution_count": null,
      "outputs": []
    },
    {
      "cell_type": "code",
      "source": [
        "#2.3.1.2. deepcopy: Copy a Nested Object\n",
        "\n",
        "from copy import deepcopy\n",
        "\n",
        "list1 = [1,2, [3,4]]\n",
        "list2 = list1.copy()\n",
        "\n",
        "#changing list\n",
        "list2[0]= 6\n",
        "list2[2].append(5)\n",
        "\n",
        "print(\"Printing list2, using just copy, which use shallow copy\")\n",
        "print(list2)\n",
        "\n",
        "print(\"Printing list1,which was the original, and using shallow copy\")\n",
        "print(list1)"
      ],
      "metadata": {
        "id": "G5rgAqs9HztV"
      },
      "execution_count": null,
      "outputs": []
    },
    {
      "cell_type": "code",
      "source": [
        "ldeepcopy1 = [1,2,[3,4]]\n",
        "ldeepcopy3 = deepcopy(ldeepcopy1)"
      ],
      "metadata": {
        "id": "JAIqjt8KH0ix"
      },
      "execution_count": null,
      "outputs": []
    },
    {
      "cell_type": "code",
      "source": [
        "print(\"Printing ldeepcopy3,which changed, and using deep copy\")\n",
        "ldeepcopy3[2].append(5)\n",
        "print(ldeepcopy3)"
      ],
      "metadata": {
        "id": "SuPUffjvJquY"
      },
      "execution_count": null,
      "outputs": []
    },
    {
      "cell_type": "code",
      "source": [
        "print(\"Printing ldeepcopy1,which is the original, and using deep copy\")\n",
        "print(ldeepcopy1)"
      ],
      "metadata": {
        "id": "6gT47TEZJxSn"
      },
      "execution_count": null,
      "outputs": []
    },
    {
      "cell_type": "code",
      "source": [
        "#2.3.1.3. Enumerate: Get Counter and Value While Looping\n",
        "#Are you using for i in range(len(array)) to access both the index \n",
        "#and the value of the array? If so, use enumerate instead. It produces the same result but it is much cleaner.\n",
        "\n",
        "arr = ['a', 'b', 'c', 'd', 'e']\n",
        "\n",
        "print(\"Use enumarate instead of recorring the loop\")\n",
        "for idx, value in enumerate(arr):\n",
        "  print(idx,value)\n",
        "\n",
        "print(\"Instead of using normal loop\")\n",
        "for i in range(len(arr)):\n",
        "  print(i,arr[i])\n",
        "\n"
      ],
      "metadata": {
        "id": "LNx9-IXzKCiR"
      },
      "execution_count": null,
      "outputs": []
    },
    {
      "cell_type": "code",
      "source": [
        "#2.3.1.4. Difference between list append and list extend\n",
        "print(\"Using extend function to add to a list\")\n",
        "lista = [1,2,3,4]\n",
        "lista.extend([5,6])\n",
        "print(lista)"
      ],
      "metadata": {
        "id": "jywZ9KhFKPzA"
      },
      "execution_count": null,
      "outputs": []
    },
    {
      "cell_type": "code",
      "source": [
        "print(\"Using append function to add to a list\")\n",
        "lista_bad = [1,2,3,4]\n",
        "lista_bad.append([5,6])\n",
        "print(lista_bad)"
      ],
      "metadata": {
        "id": "IXZ4Pbt-MTbi"
      },
      "execution_count": null,
      "outputs": []
    },
    {
      "cell_type": "markdown",
      "source": [
        "## Lists: Get Elements"
      ],
      "metadata": {
        "id": "21bFkxu3ORqe"
      }
    },
    {
      "cell_type": "code",
      "source": [
        "#2.3.2.1. random.choice: Get a Randomly Selected Element from a Python List\n",
        "#Besides getting a random number, you can also get a random element from a Python list using random. \n",
        "#In the code below, “stay at home” was picked randomly from a list of options.\n",
        "\n",
        "import random\n",
        "\n",
        "print(\"Using random library to get choice\")\n",
        "to_do_tonight = ['do python','do brilliant','do fast api']\n",
        "random.choice(to_do_tonight)"
      ],
      "metadata": {
        "id": "PF2OCA_VOGxg"
      },
      "execution_count": null,
      "outputs": []
    },
    {
      "cell_type": "code",
      "source": [
        "to_do_tonight = ['stay at home', 'attend party', 'do exercise']\n",
        "random.choice(to_do_tonight)\n",
        "\n",
        "dir(random)"
      ],
      "metadata": {
        "id": "0a_lcV4Haq3s"
      },
      "execution_count": null,
      "outputs": []
    },
    {
      "cell_type": "code",
      "source": [
        "print(random.choice.__doc__)\n",
        "print(random.choices.__doc__)"
      ],
      "metadata": {
        "id": "HwFneD_abMYk"
      },
      "execution_count": null,
      "outputs": []
    },
    {
      "cell_type": "code",
      "source": [
        "#2.3.2.2. random.sample: Get Multiple Random Elements from a Python List\n",
        "#If you want to get n random elements from a list, use random.sample.\n",
        "\n",
        "import random \n",
        "\n",
        "print(\"Using .seed\")\n",
        "random.seed(1)\n",
        "numbers = [1,2,3,4,5]\n",
        "print(f'Priting list numbers: {numbers}')\n",
        "random_numbers = random.sample(numbers, 2)\n",
        "print(f'Getting 2 values from list at random: {random_numbers}')\n"
      ],
      "metadata": {
        "id": "wdIJ0yDDbo6A"
      },
      "execution_count": null,
      "outputs": []
    },
    {
      "cell_type": "code",
      "source": [
        "#2.3.2.3. heapq: Find n Max Values of a Python List\n",
        "import heapq  #using heapq\n",
        "import random #using random\n",
        "from timeit import timeit\n",
        "\n",
        "random.seed(0)\n",
        "l = random.sample(range(0,10_000),10_000)\n",
        "\n",
        "#Creating function\n",
        "def get_n_max_sorting(l: list, n: int):\n",
        "  l = sorted(l,reverse=True)\n",
        "  return(l[:n])\n",
        "\n",
        "def get_n_max_heapq(l: list, n: int):\n",
        "  l_sorted = heapq.nlargest(n,l)"
      ],
      "metadata": {
        "id": "MJMcQiNmcM0Y"
      },
      "execution_count": null,
      "outputs": []
    },
    {
      "cell_type": "code",
      "source": [
        "dir(heapq)"
      ],
      "metadata": {
        "id": "jMoF9aakeEyR"
      },
      "execution_count": null,
      "outputs": []
    },
    {
      "cell_type": "code",
      "source": [
        "expSize = 1000\n",
        "n = 100\n",
        "\n",
        "# Using globals functions, when using globas, the arguments have to go with the same name\n",
        "time_sorting = timeit(\"get_n_max_sorting(l,n)\",number=expSize,globals=globals())\n",
        "time_heapq = timeit(\"get_n_max_heapq(l,n)\",number=expSize,globals=globals())"
      ],
      "metadata": {
        "id": "kkSZ0BUmeNaf"
      },
      "execution_count": null,
      "outputs": []
    },
    {
      "cell_type": "code",
      "source": [
        "#Calculating a ratio to know which one is faster\n",
        "ratio = round(time_sorting/time_heapq,3)\n",
        "print(f'Run {expSize} experiments. Using heapq is {ratio} times faster than using sorting')"
      ],
      "metadata": {
        "id": "pzaUqrKYyqAy"
      },
      "execution_count": null,
      "outputs": []
    },
    {
      "cell_type": "markdown",
      "source": [
        "### Link using globals: https://www.geeksforgeeks.org/python-globals-function/"
      ],
      "metadata": {
        "id": "-qNKI248d0pf"
      }
    },
    {
      "cell_type": "markdown",
      "source": [
        "## Lists: Unpack Iterables"
      ],
      "metadata": {
        "id": "meJqct7IOUhQ"
      }
    },
    {
      "cell_type": "code",
      "source": [
        "# 2.3.3.1. How to Unpack Iterables in Python\n",
        "# To assign items of a Python iterables (such as list, tuple, string) to different variables, \n",
        "# you can unpack the iterable like below.\n",
        "\n",
        "nested_arr = [[1,2,3],[\"a\",\"b\"],4]\n",
        "num_arr, char_arr, num = nested_arr\n",
        "\n",
        "print(num_arr)\n",
        "print(char_arr)\n",
        "print(num)"
      ],
      "metadata": {
        "id": "CNAVOcDqOWoi"
      },
      "execution_count": null,
      "outputs": []
    },
    {
      "cell_type": "code",
      "source": [
        "#2.3.3.2. Extended Iterable Unpacking: Ignore Multiple Values when Unpacking a Python Iterable\n",
        "#If you want to ignore multiple values when unpacking a Python iterable, \n",
        "#add * to _ as shown below.\n",
        "#This is called “Extended Iterable Unpacking” and is available in Python 3.x.\n",
        "\n",
        "a, *_, b = [2,3,4,5,6]\n",
        "print(f\"Printing a: {a}\")\n",
        "print(f\"\\nPrinting b: {b}\")\n",
        "print(f\"\\nPrinting _: {_}\")"
      ],
      "metadata": {
        "id": "1LgjOZ4SzJxp"
      },
      "execution_count": null,
      "outputs": []
    },
    {
      "cell_type": "markdown",
      "source": [
        "## Lists: Join Iterables"
      ],
      "metadata": {
        "id": "zJHw_vPsOXGt"
      }
    },
    {
      "cell_type": "code",
      "source": [
        "#2.3.4.1. join method: Turn an Iterable into a Python String\n",
        "#If you want to turn an iterable into a string, use join(). \n",
        "#In the code below, I join elements in the list fruits using “, “.\n",
        "\n",
        "activates = [\"to get up\",\"to get lunch\",\"to get breakfast\"]\n",
        "activates_str = ','.join(activates)\n",
        "\n",
        "print(f'Some activities that I will do are: {activates_str}')"
      ],
      "metadata": {
        "id": "TP9hXnYSOZcC"
      },
      "execution_count": null,
      "outputs": []
    },
    {
      "cell_type": "code",
      "source": [
        "import random\n",
        "import string\n",
        "\n",
        "def randStr(chars = string.ascii_uppercase + string.digits, N=10):\n",
        "\treturn ''.join(random.choice(chars) for _ in range(N))"
      ],
      "metadata": {
        "id": "pwf1l83c25-U"
      },
      "execution_count": null,
      "outputs": []
    },
    {
      "cell_type": "code",
      "source": [
        "#2.3.4.2. Zip: Associate Elements from Two Iterators based on the Order\n",
        "#If you want to associate elements from two iterators based on the order, \n",
        "#combine list and zip.\n",
        "\n",
        "numbers = range(5)\n",
        "str_for_test = randStr(N=5)\n",
        "\n",
        "print(str_for_test)\n",
        "# Using list and zip to associate elements frow 2 iterators\n",
        "possible_combinations = list(zip(numbers,str_for_test))\n",
        "possible_combinations"
      ],
      "metadata": {
        "id": "FruL791v0Puh"
      },
      "execution_count": null,
      "outputs": []
    },
    {
      "cell_type": "code",
      "source": [
        "#2.3.4.3. Zip Function: Create Pairs of Elements from Two Lists in Python\n",
        "#If you want to create pairs of elements from two lists, use zip. \n",
        "#zip() function takes iterables and aggregates them in a tuple.\n",
        "\n",
        "numbers = range(5)\n",
        "chars = randStr(N=5)\n",
        "\n",
        "#Generate combination\n",
        "comb = list(zip(numbers, chars))\n",
        "comb"
      ],
      "metadata": {
        "id": "5qTFiBJr0P11"
      },
      "execution_count": null,
      "outputs": []
    },
    {
      "cell_type": "code",
      "source": [
        "#You can also unzip the list of tuples by using zip(*list_of_tuples).\n",
        "nums_2, chars_2 = zip(*comb)\n",
        "print(nums_2)\n",
        "print(chars_2)"
      ],
      "metadata": {
        "id": "fYuSJjBa3gs6"
      },
      "execution_count": null,
      "outputs": []
    },
    {
      "cell_type": "markdown",
      "source": [
        "## Lists: Interaction Between 2 Lists"
      ],
      "metadata": {
        "id": "tfzB2beG4Hzt"
      }
    },
    {
      "cell_type": "code",
      "source": [
        "#2.3.5.1. set.intersection: Find the Intersection Between 2 Sets\n",
        "#If you want to get the common elements between 2 lists, \n",
        "#convert lists to sets then use set.intersection to find the intersection between 2 sets.\n",
        "\n",
        "requirements1 = ['pandas','numpy','statsmodel']\n",
        "requirements2 = ['numpy','statsmodel','sympy','matplotlib']\n",
        "\n",
        "# using set, to get unique from each list and then get intersection from them\n",
        "inner_intersection = set.intersection(set(requirements1),set(requirements2)) \n",
        "\n",
        "print(f'The dictionary of intersection: {inner_intersection}')\n",
        "\n",
        "print(f'Getting intersection as list: {list(inner_intersection)}')\n"
      ],
      "metadata": {
        "id": "gM6Z6HES4J0g"
      },
      "execution_count": null,
      "outputs": []
    },
    {
      "cell_type": "code",
      "source": [
        "print(dir(set))\n",
        "\n",
        "print(set.__doc__)"
      ],
      "metadata": {
        "id": "FqKTid8W5rm9"
      },
      "execution_count": null,
      "outputs": []
    },
    {
      "cell_type": "code",
      "source": [
        "#2.3.5.2. Set Difference: Find the Difference Between 2 Sets\n",
        "#If you want to find the difference between 2 lists, \n",
        "#turn those lists into sets then apply the difference() method to the sets.\n",
        "\n",
        "A = list(range(4))\n",
        "B = list(range(5))\n",
        "B[2]=7\n",
        "\n",
        "print(A)\n",
        "print(B)"
      ],
      "metadata": {
        "id": "hx073SV76Cyl"
      },
      "execution_count": null,
      "outputs": []
    },
    {
      "cell_type": "code",
      "source": [
        "#dir(set)"
      ],
      "metadata": {
        "id": "q0SWHe6o7PfY"
      },
      "execution_count": null,
      "outputs": []
    },
    {
      "cell_type": "code",
      "source": [
        "# Find elements in A but not in B\n",
        "# Using method of difference in set\n",
        "diff1 = set(A).difference(set(B))\n",
        "\n",
        "print(f'Printing set(A): {set(A)}')\n",
        "print(f'Printing set(B): {set(B)}')\n",
        "print(f'Getting list of difference between 2 sets: {list(diff1)}')\n",
        "# Be careful, according to the order of the sets, you can get different results"
      ],
      "metadata": {
        "id": "h2hj0NBT7Gx4"
      },
      "execution_count": null,
      "outputs": []
    },
    {
      "cell_type": "code",
      "source": [
        "# Find elements in B but not in A\n",
        "diff2 = set(B).difference(set(A))\n",
        "\n",
        "print(f'Printing set(B): {set(B)}')\n",
        "print(f'Printing set(A): {set(A)}')\n",
        "print(f'Getting list of difference between 2 sets: {list(diff2)}')"
      ],
      "metadata": {
        "id": "JGn6X8Ax7G5S"
      },
      "execution_count": null,
      "outputs": []
    },
    {
      "cell_type": "markdown",
      "source": [
        "##2.3.6. Apply Functions to Elements in a List"
      ],
      "metadata": {
        "id": "c5TIGGJJ9Mvx"
      }
    },
    {
      "cell_type": "code",
      "source": [
        "#2.3.6.1. any: Check if Any Element of an Iterable is True\n",
        "#If you want to check if any element of an iterable is True, use any. \n",
        "#In the code below, I use any to find if any element in the text is in uppercase.\n",
        "text_test = randStr(N=10)\n",
        "\n",
        "#using any, in for loop for each character in String\n",
        "any(c.isupper() for c in text_test)"
      ],
      "metadata": {
        "id": "dIzqMdvh9PDO"
      },
      "execution_count": null,
      "outputs": []
    },
    {
      "cell_type": "code",
      "source": [
        "# Instead of loop\n",
        "for c in text_test:\n",
        "  print(f'Printing c: {c}')\n",
        "  print(f'Printinf if isupper(): {c.isupper()}')\n",
        "\n",
        "\n",
        "dir(any)\n",
        "print(\"\\n\")\n",
        "print(any.__doc__)"
      ],
      "metadata": {
        "id": "G4gEQdwb_hrW"
      },
      "execution_count": null,
      "outputs": []
    },
    {
      "cell_type": "code",
      "source": [
        "#2.3.6.2. all: Check if All Elements of an Interable Are Strings\n",
        "#If you want to check if all elements of an iterable are strings, use all and isinstance.\n",
        "\n",
        "l = ['a','b',1, 2]\n",
        "l_test = randStr(N=5)\n",
        "\n",
        "print(f'First example: {l}')\n",
        "# When using all, we can use a loop\n",
        "print(all(isinstance(item,str) for item in l))\n",
        "\n",
        "print(f'Second example that comes from function that makes random words: {l_test}')\n",
        "print(all(isinstance(item_test,str) for item_test in l_test))"
      ],
      "metadata": {
        "id": "hWjqgTH1_Bv9"
      },
      "execution_count": null,
      "outputs": []
    },
    {
      "cell_type": "code",
      "source": [
        "#2.3.6.3. filter: Get the Elements of an Iterable that a Function Evaluates True\n",
        "#If you want to get the elements of an iterable that a function returns true, use filter.\n",
        "#In the code below, I use the filter method to get items that are fruits.\n",
        "\n",
        "# using filter to get elements that are in iterable\n",
        "\n",
        "def get_fruit(val: str):\n",
        "  fruits = ['apple','orange','grape']\n",
        "  return(val in fruits)\n",
        "\n",
        "# When using filter, a function should be passed to get items that are in list to search\n",
        "items = ['chair','apple','water','table','orange']\n",
        "\n",
        "print(f'The items that are going to be searched: {items} using function get_fruit with filter')\n",
        "\n",
        "filter_fruits = filter(get_fruit,items)\n",
        "\n",
        "print(f'The result is: {list(filter_fruits)}')\n"
      ],
      "metadata": {
        "id": "vspzFXeE9bFP"
      },
      "execution_count": null,
      "outputs": []
    },
    {
      "cell_type": "code",
      "source": [
        "#2.3.6.4. map method: Apply a Function to Each Item of an Iterable\n",
        "#If you want to apply the given function to each item of a given iterable, use map.\n",
        "# With 2 examples\n",
        "\n",
        "numbers = [1,2,3]\n",
        "\n",
        "# Getting list of converted values after using map over numbers list\n",
        "print(f'Getting numbers list to a list of str: {numbers}')\n",
        "list(map(str,numbers))\n",
        "\n",
        "\n",
        "# Another examples if using a function of lambda over same number:\n",
        "multiply_by_two = lambda num: num * 2\n",
        "\n",
        "print(f'Getting numbers list to multiply by two using lambda function: {numbers}')\n",
        "list(map(multiply_by_two,numbers))\n"
      ],
      "metadata": {
        "id": "sR9vFwjyBIgm"
      },
      "execution_count": null,
      "outputs": []
    },
    {
      "cell_type": "code",
      "source": [
        "#2.3.6.5. sort: Sort a List of Tuples by the First or Second Item\n",
        "#If you want to sort a list of tuples by the first or second item in a tuple, \n",
        "#use the sort method. To specify which item to sort by, use the key parameter.\n",
        "# best way to sort list of tuples\n",
        "prices = [('apple', 3), ('orange', 1), ('grape', 3), ('banana', 2)]\n",
        "print(f'List of tuples to use before sort: {prices}')\n",
        "\n",
        "# Sort by the first item\n",
        "by_letter = lambda x: x[0]\n",
        "by_number = lambda x: x[1]\n",
        "\n",
        "# Using sort withe parameter of sorting \n",
        "print(f'Using sort according to key')\n",
        "prices.sort(key=by_letter)\n",
        "print(f'Getting result after sorting prices by letter: {prices}')\n"
      ],
      "metadata": {
        "id": "GQnxNVQMDcnw"
      },
      "execution_count": null,
      "outputs": []
    },
    {
      "cell_type": "code",
      "source": [
        "# Sort by the second item in reversed order\n",
        "by_number = lambda x:x[1]\n",
        "print(f'Using sort according to key')\n",
        "prices.sort(key=by_number)\n",
        "print(f'Getting result after sorting prices by number: {prices}')"
      ],
      "metadata": {
        "id": "Zg97sZAqFAQO"
      },
      "execution_count": null,
      "outputs": []
    },
    {
      "cell_type": "code",
      "source": [
        "#2.3.6.6. Use any and List Comprehension Instead of an If-Else Statement\n",
        "#If you want to check whether a statement is True for one or more items in a list, \n",
        "#using any and list comprehension is simpler than using a for-loop and an if-else statement.\n"
      ],
      "metadata": {
        "id": "wo6SpaGPFAXT"
      },
      "execution_count": null,
      "outputs": []
    },
    {
      "cell_type": "code",
      "source": [
        "FRUITS = ['apple','orange','grape']\n",
        "\n",
        "#Practicing list comprehension, and getting a conditional there\n",
        "\n",
        "# Instead of using a for loop in function, we can use any with list comprehension\n",
        "def check_mention_fruit_1(text: str):\n",
        "  for fruit in FRUITS:\n",
        "    if fruit in text:\n",
        "      return True\n",
        "\n",
        "str_test = 'I got an apple.'\n",
        "print(f'Checking mention of FRUITS using function with inner loop: {str_test}')\n",
        "check_mention_fruit_1(str_test)"
      ],
      "metadata": {
        "id": "kpnyrkNYGfeu"
      },
      "execution_count": null,
      "outputs": []
    },
    {
      "cell_type": "code",
      "source": [
        "def check_mention_fruit_2(text: str):\n",
        "  list_comprehension = [fruit_temp for fruit_temp in FRUITS]\n",
        "  print(list_comprehension)\n",
        "  #using any\n",
        "  return(any(fruit_temp in text for fruit_temp in FRUITS ))\n",
        "\n",
        "print(f'Checking mention of FRUITS using function with list_comprehension with any function: {str_test}')\n",
        "check_mention_fruit_2(str_test)"
      ],
      "metadata": {
        "id": "dPrKolzHHCAI"
      },
      "execution_count": null,
      "outputs": []
    },
    {
      "cell_type": "markdown",
      "source": [
        "# Reforzing Tuples"
      ],
      "metadata": {
        "id": "QZGOc7mksmnf"
      }
    },
    {
      "cell_type": "code",
      "source": [
        "#2.4.1. slice: Make Your Indices More Readable by Naming Your Slice\n",
        "#Have you ever been confused when looking into code that contains hardcoded slice indices? Even if you understand it now, \n",
        "#you might forget why you choose specific indices in the future.\n",
        "\n",
        "data = list(range(1,11))\n",
        "print(f'Data for example: {data}')\n",
        "\n",
        "print(f'Instead of using strategy 1:')\n",
        "\n",
        "val1 = data[:8]\n",
        "val2 = data[8:]\n",
        "\n",
        "print(val1, val2)\n",
        "print(f'Printing sum of two sublist that later will be multiply {sum(val1)}, {sum(val2)}')\n",
        "\n",
        "print(\"Making multiplication of sum of sublists\")\n",
        "some_sum = sum(data[:8]) * sum(data[8:])\n",
        "print(some_sum)\n"
      ],
      "metadata": {
        "id": "oMnBbBdzIyIt"
      },
      "execution_count": null,
      "outputs": []
    },
    {
      "cell_type": "code",
      "source": [
        "#If so, name your slice. Python provides a nice built-in function for that purpose called slice. \n",
        "#By using names, your code is much easier to understand.\n",
        "\n",
        "# using function slice\n",
        "\n",
        "dir(slice)\n",
        "print(slice.__doc__)\n",
        "\n",
        "JANUARY = slice(0,8)\n",
        "FEBRUARY = slice(8,len(data))\n",
        "\n",
        "print(f'Printing slice list of JANUARY and FEBRUARY using function slice: {data[JANUARY]}, {data[FEBRUARY]}')\n",
        "some_sum_better = sum(data[JANUARY]) * sum(data[FEBRUARY])\n",
        "print(some_sum_better)"
      ],
      "metadata": {
        "id": "NwWFyp7xsrxy"
      },
      "execution_count": null,
      "outputs": []
    },
    {
      "cell_type": "markdown",
      "source": [
        "# Reforzing Dictionary"
      ],
      "metadata": {
        "id": "VKEHIaa1srBB"
      }
    },
    {
      "cell_type": "code",
      "source": [
        "#2.5.1. Update: Update a Dictionary With Items From Another Dictionary\n",
        "#If you want to update a dictionary with items from another dictionary or \n",
        "#from an iterable of key/value pairs, use the update method.\n",
        "\n",
        "birth_year = {\"Ben\": 1997}\n",
        "new_birth_year = {\"Michael\":1993, 'Lauren':1999}\n",
        "\n",
        "print(f'Dict example 1: {birth_year}')\n",
        "print(f'Dict example 2: {new_birth_year}')\n",
        "\n",
        "#Using update in way 1\n",
        "print(f'Using update funciton from Dict class, to update birthd_year dict')\n",
        "\n",
        "birth_year.update(new_birth_year)\n",
        "print(f'Printing birth_year updated way 1: {birth_year}')"
      ],
      "metadata": {
        "id": "jKpA_uyJsvFL"
      },
      "execution_count": null,
      "outputs": []
    },
    {
      "cell_type": "code",
      "source": [
        "#Using update in way 2\n",
        "birth_year.update(Josh=1991,Olivia=1991)\n",
        "print(f'Printing birth_year updated way 2: {birth_year}')"
      ],
      "metadata": {
        "id": "2foUU_uYsxIy"
      },
      "execution_count": null,
      "outputs": []
    },
    {
      "cell_type": "code",
      "source": [
        "#2.5.2. Key Parameter in Max(): Find the Key with the Largest Value\n",
        "#Apply max on a Python dictionary will give you the largest key, not the key with the largest value. \n",
        "#If you want to find the key with the largest value, specify that using the key parameter in the max method.\n",
        "\n",
        "ages_examples = {'Ben':19, 'Camila':28, 'Gabriel':15}\n",
        "print(f'Dict for example {ages_examples}')\n",
        "print(f'Getting max of dictionary, just using max() function')\n",
        "print(max(ages_examples))\n",
        "print(f'It does not give the key with the highest value')\n"
      ],
      "metadata": {
        "id": "A6KqauuF6ksx"
      },
      "execution_count": null,
      "outputs": []
    },
    {
      "cell_type": "code",
      "source": [
        "print(f'To get the key with the highest value, you can use a lambda, max(dict , key = lambda k: dict[k])')\n",
        "#key = lambda k: ages_examples[k]\n",
        "max_key_with_highest_value = max(ages_examples,key = lambda k: ages_examples[k])\n",
        "print(max_key_with_highest_value,ages_examples[max_key_with_highest_value])"
      ],
      "metadata": {
        "id": "0qad988_6kwU"
      },
      "execution_count": null,
      "outputs": []
    },
    {
      "cell_type": "code",
      "source": [
        "#2.5.3. dict.get: Get the Default Value of a Dictionary if a Key Doesn’t Exist\n",
        "dir(dict.get)\n",
        "print(dict.get.__doc__)\n",
        "\n",
        "#If you want to get the default value when a key doesn’t exist in a dictionary, use dict.get. \n",
        "#In the code below, since there is no key meeting3, the default value online is returned.\n",
        "\n",
        "#default supergorda \n",
        "default_dict_get = 'supergorda'\n",
        "cattle = {'ternera1':'gorda','ternera2':'flaca','ternera3':'flaca'}\n",
        "\n",
        "print(f'Getting value from dict by key if else default')\n",
        "print(cattle.get('ternera2',default_dict_get))\n",
        "\n",
        "print(f'Getting value for key=ternerax if else default')\n",
        "print(cattle.get('ternerax',default_dict_get))"
      ],
      "metadata": {
        "id": "RurScYkp6kzE"
      },
      "execution_count": null,
      "outputs": []
    },
    {
      "cell_type": "code",
      "source": [
        "#2.5.4. Double dict.get: Get Values in a Nested Dictionary with Missing Keys\n",
        "#It can be challenging to get values in a nested dictionary with missing keys.\n",
        "\n",
        "#A better way is to use the get method twice like below. The first get method will return an empty dictionary \n",
        "#if the key attr doesn’t exist. The second get method will return unknown if the key color doesn’t exist\n",
        "\n",
        "fruits = [\n",
        "    {\"name\": \"apple\", \"attr\": {\"color\": \"red\", \"taste\": \"sweet\"}},\n",
        "    {\"name\": \"orange\", \"attr\": {\"taste\": \"sour\"}},\n",
        "    {\"name\": \"grape\", \"attr\": {\"color\": \"purple\"}},\n",
        "    {\"name\": \"banana\"},\n",
        "]\n",
        "print(f'Printing example nested dictionary: {fruits}')\n",
        "\n",
        "print(f'One way to get keys with missing values is using if/else statements with normal looop or list comprehension:')\n",
        "\n",
        "for fruit in fruits:\n",
        "  #print(fruit[\"attr\"][\"color\"])\n",
        "  #print(fruit['name'])\n",
        "\n",
        "  if \"attr\" in fruit and \"color\" in fruit[\"attr\"]:\n",
        "    print(f'ok, {fruit[\"attr\"][\"color\"]}')\n",
        "  else:\n",
        "    print(\"unknown\")\n",
        "\n",
        "print(\"Instead of using a normal loop, we can use a list comprehension\")\n",
        "colors = [\n",
        "          fruit[\"attr\"][\"color\"]\n",
        "          if \"attr\" in fruit and \"color\" in fruit[\"attr\"]\n",
        "          else \"unknown\"\n",
        "          for fruit in fruits\n",
        "]\n",
        "\n",
        "print(f'Printing list comprehension with result: {colors}')"
      ],
      "metadata": {
        "id": "_47-dXJg9lNo"
      },
      "execution_count": null,
      "outputs": []
    },
    {
      "cell_type": "code",
      "source": [
        "print(\"Use the get method twice like below. The first get method will return an empty dictionary. if the key attr doesn’t exist. The second get method will return unknown if the key color doesn’t exist\")\n",
        "\n",
        "print(f'Using a list comprehension:')\n",
        "colors_get_search = [fruit.get(\"attr\",{}).get(\"color\",\"unknow\") for fruit in fruits]\n",
        "\n",
        "print(f'Getting colors_get_search with list comprehension: {colors_get_search}')\n"
      ],
      "metadata": {
        "id": "4wMcbYIz9lUT"
      },
      "execution_count": null,
      "outputs": []
    },
    {
      "cell_type": "code",
      "source": [
        "print(f'As an example, a normal loop is going to be used:')\n",
        "\n",
        "for fruit in fruits:\n",
        "  search1 = fruit.get(\"attr\",{})\n",
        "  search2 = search1.get(\"color\",\"unknow\")\n",
        "  print(f'Printing search1: {search1}')\n",
        "  print(f'Printing search2: {search2}')"
      ],
      "metadata": {
        "id": "ILtXrKDX9lWq"
      },
      "execution_count": null,
      "outputs": []
    },
    {
      "cell_type": "code",
      "source": [
        "#2.5.5. dict.fromkeys: Get a Dictionary From a List and a Value\n",
        "#If you want to get a dictionary from a list and a value, try dict.fromkeys.\n",
        "#For example, we can use dict.fromkeys to create a dictionary of furnitures’ locations:\n",
        "\n",
        "furnitures = ['bed','table','chair']\n",
        "food = ['apple','pepper','onion']\n",
        "\n",
        "loc1='IKEA'\n",
        "loc2='ALDI'\n",
        "\n",
        "print(f'Applying function dict.fromkeys: dict.fromkeys(list_keys,list_values) for furniture list')\n",
        "putting_furnitures_to_loc1 = dict.fromkeys(furnitures,loc1)\n",
        "print(f'Getting dictionary with chosen 2 lists: {putting_furnitures_to_loc1}')\n",
        "\n",
        "print(f'Applying function dict.fromkeys: dict.fromkeys(list_keys,list_values) for food list')\n",
        "putting_food_to_loc2 = dict.fromkeys(food,loc2)\n",
        "print(f'Getting dictionary with chosen 2 lists: {putting_food_to_loc2}')\n"
      ],
      "metadata": {
        "id": "koKRToD_H3pI"
      },
      "execution_count": null,
      "outputs": []
    },
    {
      "cell_type": "code",
      "source": [
        "print(f'These 2 results can be combined into a location dictionary like below:')\n",
        "print(\"Using: combining_locations = {**putting_food_to_loc2, **putting_furnitures_to_loc1}\")\n",
        "combining_locations = {**putting_food_to_loc2, **putting_furnitures_to_loc1}\n",
        "print(f'Printing result of combining two dictionaries: {combining_locations}')"
      ],
      "metadata": {
        "id": "XnP78Ac8H4au"
      },
      "execution_count": null,
      "outputs": []
    },
    {
      "cell_type": "markdown",
      "source": [
        "# Reforzing Functions"
      ],
      "metadata": {
        "id": "dNNjrV3_sxyA"
      }
    },
    {
      "cell_type": "code",
      "source": [
        "#2.6.1. **kwargs: Pass Multiple Arguments to a Function in Python\n",
        "\"\"\"\n",
        "Sometimes you might not know the arguments you will pass to a function. If so, use **kwargs.\n",
        "\n",
        "**kwargs allow you to pass multiple arguments to a function using a dictionary. In the example below, passing **{'a':1, 'b':2} to the function is similar to passing a=1, b=1 to the function.\n",
        "\n",
        "Once **kwargs argument is passed, you can treat it like a Python dictionary.\n",
        "\"\"\"\n",
        "#Generating dictionary to use in function that is using **kwargs\n",
        "parameters = {'ternera1':'flaca','ternera2':'gorda'}\n",
        "\n",
        "print(\"Creating function to use **kwargs\")\n",
        "def operator_with_constant(c,**kwargs):\n",
        "  print(kwargs)\n",
        "  for val in kwargs.values():\n",
        "    print(c + val)\n",
        "\n",
        "print(\"Applying function tha is using **kwargs\")\n",
        "operator_with_constant(c=\"La ternera esta: \",**parameters)"
      ],
      "metadata": {
        "id": "qYdzFnxUs0Cu"
      },
      "execution_count": null,
      "outputs": []
    },
    {
      "cell_type": "markdown",
      "source": [
        "##2.6.2. Decorator in Python"
      ],
      "metadata": {
        "id": "yOn1tR6LiVtM"
      }
    },
    {
      "cell_type": "code",
      "source": [
        "#2.6.2. Decorator in Python\n",
        "#Do you want to add the same block of code to different functions in Python? If so, try decorator.\n",
        "#In the code below, I created the decorator to track the time of the function say_hello.\n",
        "\n",
        "import time \n",
        "\n",
        "# Creating function to demostrate decorator\n",
        "#decorator function has to go as parameter to bigger function\n",
        "def time_func(func):\n",
        "  \"\"\"\n",
        "  Using time_func as decorator, using another function as wrapper that later has to be return\n",
        "  \"\"\"\n",
        "\n",
        "  def wrapper():\n",
        "    print(\"This happens before the function is called\")\n",
        "    start = time.time()\n",
        "    func()\n",
        "    print(\"This happens after the funciton is called\")\n",
        "    end = time.time()\n",
        "    print(f'The duration is {end-start} s')\n",
        "\n",
        "  return(wrapper)\n",
        "\n",
        "def func():\n",
        "  pass\n"
      ],
      "metadata": {
        "id": "M-VNsAHqs0hY"
      },
      "execution_count": null,
      "outputs": []
    },
    {
      "cell_type": "code",
      "source": [
        "print(f'Printing time_func as normal')\n",
        "time_func(func)"
      ],
      "metadata": {
        "id": "ZTMfaBC6s0j4"
      },
      "execution_count": null,
      "outputs": []
    },
    {
      "cell_type": "code",
      "source": [
        "print(f'Putting time_func as decorator to another function, denominated say_hello()')\n",
        "\n",
        "@time_func\n",
        "def say_hello():\n",
        "  print(\"Using function hello with decorator of time_func\")\n",
        "\n",
        "print(\"Executing say_hello() function\")\n",
        "say_hello()"
      ],
      "metadata": {
        "id": "s4uSXkIAOPVD"
      },
      "execution_count": null,
      "outputs": []
    },
    {
      "cell_type": "code",
      "source": [
        "@time_func\n",
        "def func2():\n",
        "    pass\n",
        "func2()"
      ],
      "metadata": {
        "id": "9T0ALpVCOPdW"
      },
      "execution_count": null,
      "outputs": []
    },
    {
      "cell_type": "markdown",
      "source": [
        "# Reforzing Classes\n",
        "\n",
        "\n",
        "[Write Meaningful Names](https://khuyentran1401.github.io/Efficient_Python_tricks_and_tools_for_data_scientists/Chapter1/good_practices.html)\n",
        "\n",
        "\n",
        "Go from: https://khuyentran1401.github.io/Efficient_Python_tricks_and_tools_for_data_scientists/Chapter1/class.html\n"
      ],
      "metadata": {
        "id": "pE1FNbEys1Av"
      }
    },
    {
      "cell_type": "markdown",
      "source": [
        "### 2.7.1. Abstract Classes: Declare Methods without Implementation"
      ],
      "metadata": {
        "id": "OY61lS4IiDbM"
      }
    },
    {
      "cell_type": "code",
      "source": [
        "\"\"\"\n",
        "Sometimes you might want different classes to use the same attributes and methods. \n",
        "But the implementation of those methods can be slightly different in each class.\n",
        "A good way to implement this is to use abstract classes. \n",
        "An abstract class contains one or more abstract methods.\n",
        "\n",
        "An abstract method is a method that is declared but contains no implementation. \n",
        "The abstract method requires subclasses to provide implementations.\n",
        "\"\"\"\n",
        "\n",
        "# Use abstract class when the implementation of methods may be different in each class\n",
        "\n",
        "from abc import ABC, abstractmethod\n",
        "\n",
        "# Example: Making animal class with abstractmethod\n",
        "class Animal(ABC):\n",
        "\n",
        "  def __init__(self, name: str):\n",
        "    self.name = name\n",
        "    super().__init__()\n",
        "\n",
        "  #using @abstractmethod, an abstractmethod is declared but contains no implementation\n",
        "  @abstractmethod\n",
        "  def make_sound(self):\n",
        "    pass\n",
        "\n",
        "class Wolfe(Animal):\n",
        "  \n",
        "  def make_sound(self):\n",
        "    print(f'{self.name} says: Ahuuuu')\n",
        "\n",
        "class Horse(Animal):\n",
        "  \n",
        "  def make_sound(self):\n",
        "    print(f'{self.name} says: Ijijiji')"
      ],
      "metadata": {
        "id": "noa7ys3Ts5_o"
      },
      "execution_count": null,
      "outputs": []
    },
    {
      "cell_type": "code",
      "source": [
        "# Using class with abstractmethod\n",
        "Wolfe('Pirate').make_sound()\n",
        "Horse('Asustado').make_sound()"
      ],
      "metadata": {
        "id": "d1csIOzMmQlI"
      },
      "execution_count": null,
      "outputs": []
    },
    {
      "cell_type": "markdown",
      "source": [
        "### 2.7.5. Static method: use the function without adding the attributes required for a new instance"
      ],
      "metadata": {
        "id": "OsjZylHkjmha"
      }
    },
    {
      "cell_type": "code",
      "source": [
        "\"\"\"\n",
        "Have you ever had a function in your class that doesn’t access any properties of a class\n",
        "but fits well in a class? \n",
        "You might find it redundant to instantiate the class to use that function. \n",
        "That is when you can turn your function into a static method.\n",
        "\n",
        "All you need to turn your function into a static method is the decorator @staticmethod.\n",
        "Now you can use the function without adding the attributes required for a new instance.\n",
        "\"\"\"\n",
        "\n",
        "import re \n",
        "\n",
        "# When method is in class because of logic, but do not use any class properties,\n",
        "# we can use @staticmethod\n",
        "\n",
        "class ProcessText:\n",
        "\n",
        "  def __init__(self, text_column: str):\n",
        "    self.text_column = text_column\n",
        "  \n",
        "  #Using @staticmethod in method do not use class properties and we might\n",
        "  #need access\n",
        "  @staticmethod\n",
        "  def remove_URL(sample: str) -> str:\n",
        "    \"\"\"Replace url with empty space\"\"\"\n",
        "    return(re.sub(r\"http\\S+\",\"\", sample))\n"
      ],
      "metadata": {
        "id": "zxNJdzhijl82"
      },
      "execution_count": null,
      "outputs": []
    },
    {
      "cell_type": "code",
      "source": [
        "str_to_test = \"My favorite page is https://khuyentran1401.github.io/Efficient_Python_tricks_and_tools_for_data_scientists/Chapter1/class.html\"\n",
        "print(f'Using class ProcessText in order to test: {str_to_test}')\n",
        "\n",
        "print(f'Using static method (remove_URL) without initializing ProcessText Class')\n",
        "text = ProcessText.remove_URL(str_to_test)\n",
        "print(text)"
      ],
      "metadata": {
        "id": "uQ6uW6dzjmAB"
      },
      "execution_count": null,
      "outputs": []
    },
    {
      "cell_type": "markdown",
      "source": [
        "### 2.7.6. Property Decorator: A Pythonic Way to Use Getters and Setters"
      ],
      "metadata": {
        "id": "nE2R4G8uArS-"
      }
    },
    {
      "cell_type": "code",
      "source": [
        "\"\"\"\n",
        "If you want users to use the right data type for a class attribute or \n",
        "prevent them from changing that attribute, use the property decorator.\n",
        "\n",
        "In the code below, the first color method is used to get the attribute \n",
        "color and the second color method is used to set the value for the attribute color.\n",
        "\n",
        "\"\"\""
      ],
      "metadata": {
        "id": "cHDoQDT_Arby"
      },
      "execution_count": null,
      "outputs": []
    },
    {
      "cell_type": "code",
      "source": [
        "# Example \n",
        "class Fruit:\n",
        "  def __init__(self, name: str, color: str):\n",
        "    self._name = name\n",
        "    self._color = color\n",
        "  \n",
        "  @property\n",
        "  def color(self):\n",
        "    print('Fruit color is:')\n",
        "    return(self._color)\n",
        "\n",
        "  @color.setter\n",
        "  def color(self,value):\n",
        "    print('Setting value color')\n",
        "    if self._color is None:\n",
        "      if not isinstance(value,str):\n",
        "        raise ValueError(\"color must be of type string\")\n",
        "      self.color = value\n",
        "    else:\n",
        "      raise AttributeError(\"Sorry, you cannot change a fruit's color!\")\n",
        "\n",
        "fruit = Fruit(\"apple\",None)\n",
        "fruit.color"
      ],
      "metadata": {
        "id": "CGo_4aDcArhX"
      },
      "execution_count": null,
      "outputs": []
    },
    {
      "cell_type": "code",
      "source": [
        "fruit._color = \"yellow\""
      ],
      "metadata": {
        "id": "oLc1e5EUUVaj"
      },
      "execution_count": null,
      "outputs": []
    },
    {
      "cell_type": "code",
      "source": [
        "fruit.color = 123"
      ],
      "metadata": {
        "id": "O7lwjGZMUVig"
      },
      "execution_count": null,
      "outputs": []
    },
    {
      "cell_type": "code",
      "source": [
        "fruit.color"
      ],
      "metadata": {
        "id": "0r9N0nnkXj5l"
      },
      "execution_count": null,
      "outputs": []
    },
    {
      "cell_type": "markdown",
      "source": [
        "### 2.7.2. classmethod: What is it and When to Use it"
      ],
      "metadata": {
        "id": "01JrOA7aX4Um"
      }
    },
    {
      "cell_type": "code",
      "source": [
        "\"\"\"\n",
        "When working with a Python class, if you want to create a method that returns \n",
        "that class with new attributes, use classmethod.\n",
        "\n",
        "Classmethod doesn’t depend on the creation of a class instance. \n",
        "In the code below, I use classmethod to instantiate a new object \n",
        "whose attribute is a list of even numbers\n",
        "\"\"\""
      ],
      "metadata": {
        "id": "11C-g6L4X3qX"
      },
      "execution_count": null,
      "outputs": []
    },
    {
      "cell_type": "code",
      "source": [
        "class Solver:\n",
        "  def __init__(self,nums: list):\n",
        "    self.nums = nums\n",
        "  \n",
        "  @classmethod\n",
        "  def get_even(cls,nums: list):\n",
        "    return(cls([num for num in nums if num % 2 == 0]))\n",
        "  \n",
        "  def print_output(self):\n",
        "    print(f'Result {self.nums}')\n",
        "    "
      ],
      "metadata": {
        "id": "i_22w9NXYODu"
      },
      "execution_count": null,
      "outputs": []
    },
    {
      "cell_type": "code",
      "source": [
        "print(\"Not using class method\")  \n",
        "nums = [1, 2, 3, 4, 5, 6, 7]\n",
        "solver = Solver(nums).print_output()"
      ],
      "metadata": {
        "id": "NismlslVYxFg"
      },
      "execution_count": null,
      "outputs": []
    },
    {
      "cell_type": "code",
      "source": [
        "print(\"Using class method\") \n",
        "solver2 = Solver.get_even(nums)\n",
        "solver2.print_output()"
      ],
      "metadata": {
        "id": "Fq5IaY5DYxI1"
      },
      "execution_count": null,
      "outputs": []
    },
    {
      "cell_type": "markdown",
      "source": [
        "### 2.7.3. getattr: a Better Way to Get the Attribute of a Class"
      ],
      "metadata": {
        "id": "K98dcbVgZODe"
      }
    },
    {
      "cell_type": "code",
      "source": [
        "\"\"\"\n",
        "If you want to get a default value when calling an \n",
        "attribute that is not in a class, use getattr() method.\n",
        "\n",
        "The getattr(class, attribute_name) method simply gets the value of \n",
        "an attribute of a class. However, if the attribute is not found in a class, \n",
        "it returns the default value provided to the function.\n",
        "\"\"\""
      ],
      "metadata": {
        "id": "8JZdACVrZQAw"
      },
      "execution_count": null,
      "outputs": []
    },
    {
      "cell_type": "code",
      "source": [
        "class Food_Colombia:\n",
        "  \n",
        "  # making init method\n",
        "  def __init__(self, name: str, color:str):\n",
        "    self.name = name\n",
        "    self.color = color\n"
      ],
      "metadata": {
        "id": "k4CiEHpXZQER"
      },
      "execution_count": null,
      "outputs": []
    },
    {
      "cell_type": "code",
      "source": [
        "#Initializing class\n",
        "apple = Food_Colombia(\"apple\",\"red\")\n",
        "\n",
        "print(\"The color of apple is\",getattr(apple, \"color\",\"yellow\"))\n"
      ],
      "metadata": {
        "id": "6FmdgwcL5J74"
      },
      "execution_count": null,
      "outputs": []
    },
    {
      "cell_type": "code",
      "source": [
        "#Initializing class\n",
        "apple = Food_Colombia(\"apple\",\"red\")\n",
        "\n",
        "try:\n",
        "  print(\"The color of apple is\",getattr(apple, \"color\",\"yellow\"))\n",
        "except AttributeError as e:\n",
        "  print(e)\n"
      ],
      "metadata": {
        "id": "8UFbURet4Uyi"
      },
      "execution_count": null,
      "outputs": []
    },
    {
      "cell_type": "code",
      "source": [
        "try:\n",
        "  print(\"Checking color, using expression getattr(apple, 'color','yellow'):\")\n",
        "  print(\"The color of apple is\",getattr(apple, \"color\",\"yellow\"))\n",
        "  print(\"\\nChecking flavor, using expression getattr(apple, 'flavor','sour')\")\n",
        "  print(\"The flavor of apple is\",getattr(apple, \"flavor\",\"sour\"))\n",
        "  print(\"\\nChecking attribute, using expression apple.color\")\n",
        "  print(\"The flavor of apple is\",apple.color)\n",
        "  print(\"\\nChecking attribute that is not assigned, using expression apple.flavor:\")\n",
        "  print(\"The flavor of apple is\",apple.flavor)\n",
        "except AttributeError as e:\n",
        "  print(\"It run in exception\")\n",
        "  print(e)"
      ],
      "metadata": {
        "id": "xaWR47Bq4U1J"
      },
      "execution_count": null,
      "outputs": []
    },
    {
      "cell_type": "markdown",
      "source": [
        "### 2.7.4. __call__: Call your Class Instance like a Function"
      ],
      "metadata": {
        "id": "J9tJsyxGZUCo"
      }
    },
    {
      "cell_type": "code",
      "source": [
        "\"\"\"\n",
        "If you want to call your class instance like a function, \n",
        "add __call__ method to your class.\n",
        "\"\"\""
      ],
      "metadata": {
        "id": "jevDhdEbZVnh"
      },
      "execution_count": null,
      "outputs": []
    },
    {
      "cell_type": "code",
      "source": [
        "# Using method __call__ to call a function of a class more easily\n",
        "\n",
        "class DataLoader():\n",
        "\n",
        "  def __init__(self, data_dir: str):\n",
        "    self.data_dir = data_dir\n",
        "    print(\"## Instance is created from __init__ method\")\n",
        "  \n",
        "  def __call__(self):\n",
        "    print(\"$$$ Instance is called from __call__ method\")\n",
        "  "
      ],
      "metadata": {
        "id": "UTifw35eZVqP"
      },
      "execution_count": null,
      "outputs": []
    },
    {
      "cell_type": "code",
      "source": [
        "data_loader1 = DataLoader(\"own_data_dir\")\n",
        "print(f'{data_loader1}')\n",
        "# De todas maneras se debe inicializar la clase"
      ],
      "metadata": {
        "id": "2BIoj-Ng6s23"
      },
      "execution_count": null,
      "outputs": []
    },
    {
      "cell_type": "code",
      "source": [
        "data_loader2 = data_loader1()\n",
        "print(f'{data_loader2}')"
      ],
      "metadata": {
        "id": "MV0IBRCE8G6P"
      },
      "execution_count": null,
      "outputs": []
    },
    {
      "cell_type": "markdown",
      "source": [
        "### 2.7.7. __str__ and __repr__: Create a String Representation of a Python Object"
      ],
      "metadata": {
        "id": "ZUdkWvwMZb72"
      }
    },
    {
      "cell_type": "code",
      "source": [
        "\"\"\"\n",
        "If you want to create a string representation of an object, add __str__ and __repr__.\n",
        "__str__ shows readable outputs when printing the object. \n",
        "__repr__ shows outputs that are useful for displaying and debugging the object.\n",
        "\"\"\""
      ],
      "metadata": {
        "id": "0xaZ9PglZdP6"
      },
      "execution_count": null,
      "outputs": []
    },
    {
      "cell_type": "code",
      "source": [
        "class Food:\n",
        "\n",
        "  def __init__(self, name: str, color: str):\n",
        "    self.name = name\n",
        "    self.color = color \n",
        "  \n",
        "  def __str__(self):\n",
        "    print(\"Printing answer using __str__ method\")\n",
        "    return f\"{self.color} {self.name}\"\n",
        "\n",
        "  def __repr__(self):\n",
        "    print(\"Printing answer using __repr__ method\")\n",
        "    return f\"Food({self.color},{self.name})\""
      ],
      "metadata": {
        "id": "bRY3ZNFjZdTW"
      },
      "execution_count": null,
      "outputs": []
    },
    {
      "cell_type": "code",
      "source": [
        "food = Food(\"apple\", \"red\")\n",
        "\n",
        "print(food) "
      ],
      "metadata": {
        "id": "4rO3NSe09d6u"
      },
      "execution_count": null,
      "outputs": []
    },
    {
      "cell_type": "code",
      "source": [
        "food"
      ],
      "metadata": {
        "id": "Pr0ga9Mo-cO4"
      },
      "execution_count": null,
      "outputs": []
    },
    {
      "cell_type": "markdown",
      "source": [
        "### 2.7.8. attrs: Bring Back the Joy of Writing Classes\n",
        "\n",
        "To install attrs module\n",
        "`!python -m pip install attrs`"
      ],
      "metadata": {
        "id": "r3bTjMDlZd1o"
      }
    },
    {
      "cell_type": "code",
      "source": [
        "\"\"\"\n",
        "Do you find it annoying to write an __init__ method \n",
        "every time you want to create a class in Python?\n",
        "\n",
        "If so, try attrs. With attrs, you can declaratively define the attributes of a class.\n",
        "\"\"\""
      ],
      "metadata": {
        "id": "So7NbAHXZeHd"
      },
      "execution_count": null,
      "outputs": []
    },
    {
      "cell_type": "code",
      "source": [
        "print(\"This is the standard way of usin __init__\")\n",
        "# what mean underscore type_ (I think it means private variable)\n",
        "\n",
        "class Dog1:\n",
        "  def __init__(self, age: int, name: str, type_: str = 'Labrador Retriever'):\n",
        "    self.age = age\n",
        "    self.name = name\n",
        "    self.type_ = type_\n",
        "  \n",
        "  def describe(self):\n",
        "    print(f\"{self.name} is a {self.type_}\")"
      ],
      "metadata": {
        "id": "4WVc3PHuFOPY"
      },
      "execution_count": null,
      "outputs": []
    },
    {
      "cell_type": "code",
      "source": [
        "pin = Dog1(7, \"Pepper\",\"Labrador Retriever\")\n",
        "print(pin)\n",
        "print(pin.describe())"
      ],
      "metadata": {
        "id": "bFa990ekue6E"
      },
      "execution_count": null,
      "outputs": []
    },
    {
      "cell_type": "code",
      "source": [
        "print(\"Importing attr\")\n",
        "import attr"
      ],
      "metadata": {
        "id": "GwxeDzZ0ZeLf"
      },
      "execution_count": null,
      "outputs": []
    },
    {
      "cell_type": "code",
      "source": [
        "@attr.s(auto_attribs=True)\n",
        "class Dog2:\n",
        "  age: int\n",
        "  name: str\n",
        "  type_: str = \"Labrador Retriever\"\n",
        "\n",
        "  def describe(self):\n",
        "    print(f\"{self.name} is a {self.type_}.\")"
      ],
      "metadata": {
        "id": "zSQ6RAS1FS00"
      },
      "execution_count": null,
      "outputs": []
    },
    {
      "cell_type": "code",
      "source": [
        ""
      ],
      "metadata": {
        "id": "HjPAFc-SHwV5"
      },
      "execution_count": null,
      "outputs": []
    },
    {
      "cell_type": "code",
      "source": [
        "print(\"The instance created using attrs has a nice human-readable __repr__.\")\n",
        "pepper"
      ],
      "metadata": {
        "id": "8DRXU47oHwY5"
      },
      "execution_count": null,
      "outputs": []
    },
    {
      "cell_type": "code",
      "source": [
        "print(\"Using describe() in class instance\")\n",
        "pepper.describe()"
      ],
      "metadata": {
        "id": "8GnK94TRLqQm"
      },
      "execution_count": null,
      "outputs": []
    },
    {
      "cell_type": "code",
      "source": [
        "print(\"You can also turn the attributes of that instance into a dictionary.\")\n",
        "attr.asdict(pepper)"
      ],
      "metadata": {
        "id": "k2_3EMzSLqU7"
      },
      "execution_count": null,
      "outputs": []
    },
    {
      "cell_type": "code",
      "source": [
        "print(\"You can also compare 2 instances of the same class using the first attribute of that class.\")\n",
        "other_dog = Dog2(8, 'Lego','Grandaness')\n",
        "pepper < other_dog"
      ],
      "metadata": {
        "id": "6a1D4_AZNPbu"
      },
      "execution_count": null,
      "outputs": []
    },
    {
      "cell_type": "markdown",
      "source": [
        "# Reforzing Datetime"
      ],
      "metadata": {
        "id": "pqIX6Du3s7Uq"
      }
    },
    {
      "cell_type": "markdown",
      "source": [
        "### 2.8.1. datetime + timedelta: Calculate End DateTime Based on Start DateTime and Duration"
      ],
      "metadata": {
        "id": "kLejzMDvu0xS"
      }
    },
    {
      "cell_type": "code",
      "source": [
        "\"\"\"\n",
        "Provided an event starts at a certain time and takes \n",
        "a certain number of minutes to finish, how do you determine when it ends?\n",
        "\n",
        "Taking the sum of datetime and timedelta(minutes) will do the trick.\n",
        "\"\"\""
      ],
      "metadata": {
        "id": "oqEfxeGos92Z"
      },
      "execution_count": null,
      "outputs": []
    },
    {
      "cell_type": "code",
      "source": [
        "from datetime import date, datetime, timedelta\n",
        "\n",
        "begin_date = '2020/01/03 23:59:00'\n",
        "duration_in_minutes = 2500"
      ],
      "metadata": {
        "id": "Fl9oKd3Bs-sY"
      },
      "execution_count": null,
      "outputs": []
    },
    {
      "cell_type": "code",
      "source": [
        "#datetime.strptime()"
      ],
      "metadata": {
        "id": "PSlDaGJAvXP1"
      },
      "execution_count": null,
      "outputs": []
    },
    {
      "cell_type": "code",
      "source": [
        "# find begging time\n",
        "print(f'Using begin_date variable: {begin_date}')\n",
        "beginning_time = datetime.strptime(begin_date,'%Y/%m/%d %H:%M:%S')\n",
        "print(f'Beggint_time calculated: {beginning_time} from {begin_date}')"
      ],
      "metadata": {
        "id": "ay0lbStbs-ve"
      },
      "execution_count": null,
      "outputs": []
    },
    {
      "cell_type": "code",
      "source": [
        "#find duration in days\n",
        "print(f'In order to find timedelta in minutes, we can used previous deploy variable {duration_in_minutes}')\n",
        "days = timedelta(minutes=duration_in_minutes)\n",
        "print(f'Calculated time in days is: {days}')"
      ],
      "metadata": {
        "id": "SL-UdZkzvyg5"
      },
      "execution_count": null,
      "outputs": []
    },
    {
      "cell_type": "code",
      "source": [
        "#find end time\n",
        "print(f'In order to get the delta, we can use previous variables')\n",
        "print(f'We can use variable begging_time: {beginning_time}, which is type {type(beginning_time)}')\n",
        "print(f'We can use variable days: {days}, which is type {type(days)}')\n",
        "end= beginning_time + days\n",
        "print(f'At the end, we have the operation end=beginning_time + days, which give us {end}, which is type {type(end)}')\n",
        "end"
      ],
      "metadata": {
        "id": "7yW0BGbGvyjL"
      },
      "execution_count": null,
      "outputs": []
    },
    {
      "cell_type": "markdown",
      "source": [
        "### 2.8.2. Use Dates in a Month as the Feature"
      ],
      "metadata": {
        "id": "xzxuADnqxLLd"
      }
    },
    {
      "cell_type": "code",
      "source": [
        "\"\"\"Have you ever wanted to use dates in a month as the feature in your time series data? \n",
        "You can find the days in a month by using calendar.monthrange(year, month)[1] like below\n",
        "\"\"\"\n",
        "#dir(calendar.monthrange.__doc__)\n",
        "print(calendar.monthrange.__doc__)"
      ],
      "metadata": {
        "id": "2fuYA1_vxNZs"
      },
      "execution_count": null,
      "outputs": []
    },
    {
      "cell_type": "code",
      "source": [
        "import calendar\n",
        "\n",
        "calendar.monthrange(2020,11)"
      ],
      "metadata": {
        "id": "42POVaEPxVhn"
      },
      "execution_count": null,
      "outputs": []
    },
    {
      "cell_type": "code",
      "source": [
        "calendar.monthrange(2022,1)"
      ],
      "metadata": {
        "id": "joKJgi0Pxj-v"
      },
      "execution_count": null,
      "outputs": []
    },
    {
      "cell_type": "code",
      "source": [
        "import calendar \n",
        "\n",
        "calendar.monthrange(2022, 1)[1]"
      ],
      "metadata": {
        "id": "s0mc_fN8xNgn"
      },
      "execution_count": null,
      "outputs": []
    },
    {
      "cell_type": "markdown",
      "source": [
        "# Reforzing CodeSpeed\n",
        "\n",
        "This section will show you some ways to speed up or track the performance of your Python code."
      ],
      "metadata": {
        "id": "3MYQ6FmAs_qz"
      }
    },
    {
      "cell_type": "markdown",
      "source": [
        "### 2.10.1. Concurrently Execute Tasks on Separate CPUs"
      ],
      "metadata": {
        "id": "p2tqOYq6yycA"
      }
    },
    {
      "cell_type": "code",
      "source": [
        "\"\"\"\n",
        "If you want to concurrently execute tasks on separate CPUs to run faster,\n",
        "consider using joblib.Parallel. It allows you to easily execute several \n",
        "tasks at once, with each task using its own processor.\n",
        "\"\"\""
      ],
      "metadata": {
        "id": "GEr50RvktCGB"
      },
      "execution_count": null,
      "outputs": []
    },
    {
      "cell_type": "code",
      "source": [
        "from joblib import Parallel, delayed\n",
        "import multiprocessing\n",
        "\n",
        "# Creating function to check\n",
        "def add_three(num: int):\n",
        "  return(num +3)\n"
      ],
      "metadata": {
        "id": "1cZL-1YztCvk"
      },
      "execution_count": null,
      "outputs": []
    },
    {
      "cell_type": "code",
      "source": [
        "#dir(multiprocessing)"
      ],
      "metadata": {
        "id": "1O_fHzsyzRDb"
      },
      "execution_count": null,
      "outputs": []
    },
    {
      "cell_type": "code",
      "source": [
        "print(\"Getting number of cores, with function cpu_count()\")\n",
        "num_cores = multiprocessing.cpu_count()\n",
        "print(f'The num_cores are: {num_cores}')"
      ],
      "metadata": {
        "id": "8XzTxXEczB4P"
      },
      "execution_count": null,
      "outputs": []
    },
    {
      "cell_type": "code",
      "source": [
        "print(f'Using results {results} to know the functionality of Parallel(n_jobs=num_cores):')\n",
        "results = Parallel(n_jobs=num_cores)\n",
        "getting_res = results(delayed(add_three)(i) for i in range(10))\n",
        "print(f'Getting anser in variable {getting_res}')\n"
      ],
      "metadata": {
        "id": "DzQ5wRitzB6v"
      },
      "execution_count": null,
      "outputs": []
    },
    {
      "cell_type": "markdown",
      "source": [
        "### 2.10.2. Compare The Execution Time Between 2 Functions\n",
        "\n",
        "Other important links: https://www.geeksforgeeks.org/python-programming-language/\n",
        "\n",
        "Links asociados: https://towardsdatascience.com/understanding-time-complexity-with-python-examples-2bda6e8158a7"
      ],
      "metadata": {
        "id": "OffI9lft-SF2"
      }
    },
    {
      "cell_type": "code",
      "source": [
        "\"\"\"\n",
        "If you want to compare the execution time between 2 functions, try timeit.timeit. \n",
        "You can also specify the number of times you want to rerun your function to get\n",
        "a better estimation of the time.\n",
        "\"\"\""
      ],
      "metadata": {
        "id": "V_FwXP1c-ThD"
      },
      "execution_count": null,
      "outputs": []
    },
    {
      "cell_type": "code",
      "source": [
        "print(\"Using function timeit to compare execution times\")"
      ],
      "metadata": {
        "id": "v00GbTk3tC1u"
      },
      "execution_count": null,
      "outputs": []
    },
    {
      "cell_type": "code",
      "source": [
        "import time \n",
        "import timeit "
      ],
      "metadata": {
        "id": "0Rgaz6CK-TPM"
      },
      "execution_count": null,
      "outputs": []
    },
    {
      "cell_type": "code",
      "source": [
        "def func():\n",
        "  \"\"\"list comprehension\"\"\"\n",
        "  l = [i for i in range(10_000)]"
      ],
      "metadata": {
        "id": "wyWZJ0Vi-TSw"
      },
      "execution_count": null,
      "outputs": []
    },
    {
      "cell_type": "code",
      "source": [
        "def func2():\n",
        "  \"\"\"list range\"\"\"\n",
        "  l = list(range(10_000))"
      ],
      "metadata": {
        "id": "HDpuBo9e_jTo"
      },
      "execution_count": null,
      "outputs": []
    },
    {
      "cell_type": "code",
      "source": [
        "expSize = 1000\n",
        "print(f'Using expSize to compare two functions: {expSize}')"
      ],
      "metadata": {
        "id": "BqRXTfUE_sQ9"
      },
      "execution_count": null,
      "outputs": []
    },
    {
      "cell_type": "code",
      "source": [
        "print(f'Using timeit in func according to expSize')\n",
        "time1 = timeit.timeit(func, number=expSize)\n",
        "print(f'{time1}')\n"
      ],
      "metadata": {
        "id": "7ljhkXha_bBl"
      },
      "execution_count": null,
      "outputs": []
    },
    {
      "cell_type": "code",
      "source": [
        "print(f'Using timeit in func2 according to expSize')\n",
        "time2 = timeit.timeit(func2, number=expSize)\n",
        "print(f'{time2}')"
      ],
      "metadata": {
        "id": "A-vZeflPAICD"
      },
      "execution_count": null,
      "outputs": []
    },
    {
      "cell_type": "code",
      "source": [
        "print(f'Getting the result of division of time1/time2, as a fold')\n",
        "print(f'{time1/time2}')\n",
        "print(\"From the result, we can see that it is faster to use list range than to use list comprehension on average.\")"
      ],
      "metadata": {
        "id": "GLFfj3SLAVKz"
      },
      "execution_count": null,
      "outputs": []
    },
    {
      "cell_type": "markdown",
      "source": [
        "# Reforzing: Good Python Practices"
      ],
      "metadata": {
        "id": "LQQt3WIntEQC"
      }
    },
    {
      "cell_type": "markdown",
      "source": [
        "### 2.11.1. Write Meaningful Names\n",
        "\n",
        "It is a bad practice to use vague names such as x, y, z in your Python code since they don’t give you any information about their roles in the code.\n",
        "\n"
      ],
      "metadata": {
        "id": "2tz-GVGYAoQR"
      }
    },
    {
      "cell_type": "code",
      "source": [
        "print(\"this is not good\")\n",
        "x = 10 \n",
        "y = 5 \n",
        "z = x + y\n",
        "print(f'x=10, to get {x}')\n",
        "print(f'y=5, to get {y}')\n",
        "print(f'z= x+y, to get {z}')"
      ],
      "metadata": {
        "id": "KKNbVfnRtKzt"
      },
      "execution_count": null,
      "outputs": []
    },
    {
      "cell_type": "code",
      "source": [
        "print(\"This is better\")\n",
        "num_members: int = 10\n",
        "num_guests: int = 5\n",
        "sum_: int = num_members + num_guests\n",
        "\n",
        "print(f'num_members: int = 10, to get {num_members}')\n",
        "print(f'num_guests: int = 5, to get {num_guests}')\n",
        "print(f'sum_: int = num_members + num_guests, to get {sum_}')\n"
      ],
      "metadata": {
        "id": "lOtOvxUntLKx"
      },
      "execution_count": null,
      "outputs": []
    }
  ]
}