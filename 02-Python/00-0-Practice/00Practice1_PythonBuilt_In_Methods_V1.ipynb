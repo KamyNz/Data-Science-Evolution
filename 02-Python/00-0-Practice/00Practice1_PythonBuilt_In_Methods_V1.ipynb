{
  "nbformat": 4,
  "nbformat_minor": 0,
  "metadata": {
    "colab": {
      "name": "00Practice1-PythonBuilt-In-Methods_V1.ipynb",
      "private_outputs": true,
      "provenance": [],
      "collapsed_sections": []
    },
    "kernelspec": {
      "name": "python3",
      "display_name": "Python 3"
    },
    "language_info": {
      "name": "python"
    }
  },
  "cells": [
    {
      "cell_type": "markdown",
      "source": [
        "## Reforzing Strings"
      ],
      "metadata": {
        "id": "bSGjIhAVu3ZT"
      }
    },
    {
      "cell_type": "code",
      "execution_count": null,
      "metadata": {
        "id": "uZQ7-bIi1toJ"
      },
      "outputs": [],
      "source": [
        "# Positive case:\n",
        "sentence = \"Today is Saturday\"\n",
        "\n",
        "# Find instance of first ocurrence of substring\n",
        "res1 = sentence.find(\"day\")\n",
        "\n",
        "# Negative case:\n",
        "res2 = sentence.find('nice')\n",
        "print(res1)\n",
        "print(res2)\n",
        "\n",
        "# Understanding: If you want to find the index of a substring in a string, use find() method. This method will return the index of \n",
        "# the first occurrence of the substring if found and return -1 otherwise.\n",
        "\n",
        "# Start searching for pattern from specific position\n",
        "res3 = sentence.find(\"day\",3)\n",
        "print(res3)\n",
        "\n",
        "print(sentence[res3:])"
      ]
    },
    {
      "cell_type": "code",
      "source": [
        "# 2.1.2. re.sub: Replace One String with Another String Using Regular Expression\n",
        "#re.sub allows you to use a regular expression to specify the pattern of the string you want to swap.\n",
        "#In the code below, I replace 3/7/2021 with Sunday \n",
        "\n",
        "import re\n",
        "\n",
        "text = \"Today is 3/7/2021\"\n",
        "match_pattern = r\"(\\d+)/(\\d+)/(\\d+)\"\n",
        "\n",
        "re.sub(match_pattern, \"Sunday\",text)\n",
        "\n",
        "#replace 3/7/2021 with 2021/3/7., Transponiendo posiciones\n",
        "re.sub(match_pattern,r\"\\3-\\1-\\2\",text)\n"
      ],
      "metadata": {
        "id": "a1mf81x62S0W"
      },
      "execution_count": null,
      "outputs": []
    },
    {
      "cell_type": "code",
      "source": [
        "#2.1.3. difflib.SequenceMatcher: Detect The “Almost Similar” Articles\n",
        "#How can we detect the “almost similar” articles and drop one of them? That is when difflib.SequenceMatcher comes in handy.\n",
        "\n",
        "from difflib import SequenceMatcher\n",
        "\n",
        "text1=\"I am Khuyen\"\n",
        "text2=\"I am Khuen\"\n",
        "\n",
        "print(SequenceMatcher(a=text1,b=text2).ratio())\n"
      ],
      "metadata": {
        "id": "FMIdlhhZ3nOJ"
      },
      "execution_count": null,
      "outputs": []
    },
    {
      "cell_type": "code",
      "source": [
        "dir(SequenceMatcher)"
      ],
      "metadata": {
        "id": "EtA8LJNwKkNF"
      },
      "execution_count": null,
      "outputs": []
    },
    {
      "cell_type": "code",
      "source": [
        "#2.1.4. difflib.get_close_matches: Get a List of the Best Matches for a Certain Word\n",
        "#If you want to get a list of the best matches for a certain word, use difflib.get_close_matches.\n",
        "\n",
        "from difflib import get_close_matches\n",
        "\n",
        "# List of words\n",
        "tools = ['pencil','pen','erasor','ink']\n",
        "\n",
        "# List of results\n",
        "get_close_matches('pencel',tools)\n"
      ],
      "metadata": {
        "id": "Ra2VRGBAL8zc"
      },
      "execution_count": null,
      "outputs": []
    },
    {
      "cell_type": "markdown",
      "source": [
        "## Teniendo en cuenta link: https://rushter.com/blog/python-class-internals/\n"
      ],
      "metadata": {
        "id": "pufHhcvPM5Lw"
      }
    },
    {
      "cell_type": "code",
      "source": [
        "\n",
        "# Understanding Python Class Internals\n",
        "print(SequenceMatcher.__dict__['__doc__'])"
      ],
      "metadata": {
        "id": "bx2PgX5xKzLt"
      },
      "execution_count": null,
      "outputs": []
    },
    {
      "cell_type": "code",
      "source": [
        ""
      ],
      "metadata": {
        "id": "HghRn6g8MXO1"
      },
      "execution_count": null,
      "outputs": []
    },
    {
      "cell_type": "markdown",
      "source": [
        "## Reforzing Numbers"
      ],
      "metadata": {
        "id": "M4TECy1QvEyc"
      }
    },
    {
      "cell_type": "code",
      "source": [
        "# 2.2.1. fractions: Get Numerical Results in Fractions Instead of Decimals\n",
        "\n",
        "from fractions import Fraction\n",
        "res1 = (2/(3+1))\n",
        "\n",
        "res2 = Fraction(2/3+1)\n",
        "\n",
        "#resultado 1\n",
        "print(\"Resultado 1\")\n",
        "print(res1)\n",
        "#resultado 2\n",
        "print(\"Resultado 2\")\n",
        "print(res2)\n"
      ],
      "metadata": {
        "id": "j2enPLaYvGRm"
      },
      "execution_count": null,
      "outputs": []
    },
    {
      "cell_type": "code",
      "source": [
        "#Cool! We got a fraction instead of a decimal. To limit the number of decimals displayed, use limit_denominator().\n",
        "res2_denominator = res2.limit_denominator()\n",
        "print(res2_denominator)"
      ],
      "metadata": {
        "id": "R3y932EczVu4"
      },
      "execution_count": null,
      "outputs": []
    },
    {
      "cell_type": "code",
      "source": [
        "#If we divide the result we got from Fraction by another number, we got back a fraction without using the Fraction object again.\n",
        "print(res2_denominator / 3)\n"
      ],
      "metadata": {
        "id": "eucYZxCNz72i"
      },
      "execution_count": null,
      "outputs": []
    },
    {
      "cell_type": "code",
      "source": [
        "#2.2.2. How to Use Underscores to Format Large Numbers in Python\n",
        "large_num = 1_000_000\n",
        "large_num"
      ],
      "metadata": {
        "id": "v1-QaqL-3Qva"
      },
      "execution_count": null,
      "outputs": []
    },
    {
      "cell_type": "code",
      "source": [
        "#2.2.3. Confirm Whether a Variable Is a Number\n",
        "from numbers import Number\n",
        "a = 2\n",
        "b = 0.4\n",
        "c = \"text\"\n",
        "\n",
        "\n",
        "# check if instance is number\n",
        "print(isinstance(a, Number))\n",
        "print(isinstance(b,Number))\n",
        "print(isinstance(c,Number))"
      ],
      "metadata": {
        "id": "y4gGHAnW6ngY"
      },
      "execution_count": null,
      "outputs": []
    },
    {
      "cell_type": "code",
      "source": [
        "#2.2.4. Get Multiples of a Number Using Modulus\n",
        "#If you want to get multiples of a number, use the modulus operator %. The modulus operator \n",
        "#is used to get the remainder of a division. For example, 4 % 3 = 1, 5 % 3 = 2.\n",
        "\n",
        "def get_multiples_of_n(nums: list, n: int):\n",
        "  \"\"\"Select only numbers whose remainders are 0 when dividing them by n\n",
        "  \"\"\"\n",
        "  # using nested list with for\n",
        "  result_list = [number for number in nums if number % n == 0]\n",
        "  return(result_list)"
      ],
      "metadata": {
        "id": "rWlO-DhM6unU"
      },
      "execution_count": null,
      "outputs": []
    },
    {
      "cell_type": "code",
      "source": [
        "nums = [1, 4, 9, 12, 15, 16]"
      ],
      "metadata": {
        "id": "NCIxytzy7mhw"
      },
      "execution_count": null,
      "outputs": []
    },
    {
      "cell_type": "code",
      "source": [
        "get_multiples_of_n(nums,4) # multiples of 4"
      ],
      "metadata": {
        "id": "_AEoMEGL8fKm"
      },
      "execution_count": null,
      "outputs": []
    },
    {
      "cell_type": "code",
      "source": [
        "get_multiples_of_n(nums,3) # multiples of 3"
      ],
      "metadata": {
        "id": "wt-qbf8G8ibd"
      },
      "execution_count": null,
      "outputs": []
    },
    {
      "cell_type": "code",
      "source": [
        "get_multiples_of_n(nums,2) # multiples of 2"
      ],
      "metadata": {
        "id": "Q_jRixGJ8tRD"
      },
      "execution_count": null,
      "outputs": []
    },
    {
      "cell_type": "markdown",
      "source": [
        "# Good Practices with Lists"
      ],
      "metadata": {
        "id": "qTvVp_-nG1H8"
      }
    },
    {
      "cell_type": "code",
      "source": [
        "#2.3.1.1. Stop using = operator to create a copy of a Python list. Use copy method instead\n",
        "\n",
        "list1= [1,2,3]\n",
        "list2 = list1\n",
        "list2.append(4)\n",
        "\n",
        "print(list1)\n",
        "print(list2)\n"
      ],
      "metadata": {
        "id": "ML1k8OKfG0-d"
      },
      "execution_count": null,
      "outputs": []
    },
    {
      "cell_type": "code",
      "source": [
        "#Instead of using = operator, use copy() method. Now your old list will not change when you change your new list.\n",
        "l1 = [1,2,3]\n",
        "l2 = l1.copy()\n",
        "l2.append(4)\n",
        "\n",
        "print(l1)\n",
        "print(l2)"
      ],
      "metadata": {
        "id": "3lUQIlF88wRe"
      },
      "execution_count": null,
      "outputs": []
    },
    {
      "cell_type": "code",
      "source": [
        "#2.3.1.2. deepcopy: Copy a Nested Object\n",
        "\n",
        "from copy import deepcopy\n",
        "\n",
        "list1 = [1,2, [3,4]]\n",
        "list2 = list1.copy()\n",
        "\n",
        "#changing list\n",
        "list2[0]= 6\n",
        "list2[2].append(5)\n",
        "\n",
        "print(\"Printing list2, using just copy, which use shallow copy\")\n",
        "print(list2)\n",
        "\n",
        "print(\"Printing list1,which was the original, and using shallow copy\")\n",
        "print(list1)"
      ],
      "metadata": {
        "id": "G5rgAqs9HztV"
      },
      "execution_count": null,
      "outputs": []
    },
    {
      "cell_type": "code",
      "source": [
        "ldeepcopy1 = [1,2,[3,4]]\n",
        "ldeepcopy3 = deepcopy(ldeepcopy1)"
      ],
      "metadata": {
        "id": "JAIqjt8KH0ix"
      },
      "execution_count": null,
      "outputs": []
    },
    {
      "cell_type": "code",
      "source": [
        "print(\"Printing ldeepcopy3,which changed, and using deep copy\")\n",
        "ldeepcopy3[2].append(5)\n",
        "print(ldeepcopy3)"
      ],
      "metadata": {
        "id": "SuPUffjvJquY"
      },
      "execution_count": null,
      "outputs": []
    },
    {
      "cell_type": "code",
      "source": [
        "print(\"Printing ldeepcopy1,which is the original, and using deep copy\")\n",
        "print(ldeepcopy1)"
      ],
      "metadata": {
        "id": "6gT47TEZJxSn"
      },
      "execution_count": null,
      "outputs": []
    },
    {
      "cell_type": "code",
      "source": [
        "#2.3.1.3. Enumerate: Get Counter and Value While Looping\n",
        "#Are you using for i in range(len(array)) to access both the index \n",
        "#and the value of the array? If so, use enumerate instead. It produces the same result but it is much cleaner.\n",
        "\n",
        "arr = ['a', 'b', 'c', 'd', 'e']\n",
        "\n",
        "print(\"Use enumarate instead of recorring the loop\")\n",
        "for idx, value in enumerate(arr):\n",
        "  print(idx,value)\n",
        "\n",
        "print(\"Instead of using normal loop\")\n",
        "for i in range(len(arr)):\n",
        "  print(i,arr[i])\n",
        "\n"
      ],
      "metadata": {
        "id": "LNx9-IXzKCiR"
      },
      "execution_count": null,
      "outputs": []
    },
    {
      "cell_type": "code",
      "source": [
        "#2.3.1.4. Difference between list append and list extend\n",
        "print(\"Using extend function to add to a list\")\n",
        "lista = [1,2,3,4]\n",
        "lista.extend([5,6])\n",
        "print(lista)"
      ],
      "metadata": {
        "id": "jywZ9KhFKPzA"
      },
      "execution_count": null,
      "outputs": []
    },
    {
      "cell_type": "code",
      "source": [
        "print(\"Using append function to add to a list\")\n",
        "lista_bad = [1,2,3,4]\n",
        "lista_bad.append([5,6])\n",
        "print(lista_bad)\n"
      ],
      "metadata": {
        "id": "IXZ4Pbt-MTbi"
      },
      "execution_count": null,
      "outputs": []
    },
    {
      "cell_type": "markdown",
      "source": [
        "## Lists: Get Elements"
      ],
      "metadata": {
        "id": "21bFkxu3ORqe"
      }
    },
    {
      "cell_type": "code",
      "source": [
        ""
      ],
      "metadata": {
        "id": "PF2OCA_VOGxg"
      },
      "execution_count": null,
      "outputs": []
    },
    {
      "cell_type": "markdown",
      "source": [
        "## Lists: Unpack Iterables"
      ],
      "metadata": {
        "id": "meJqct7IOUhQ"
      }
    },
    {
      "cell_type": "code",
      "source": [
        ""
      ],
      "metadata": {
        "id": "CNAVOcDqOWoi"
      },
      "execution_count": null,
      "outputs": []
    },
    {
      "cell_type": "markdown",
      "source": [
        "## Lists: Join Iterables"
      ],
      "metadata": {
        "id": "zJHw_vPsOXGt"
      }
    },
    {
      "cell_type": "code",
      "source": [
        ""
      ],
      "metadata": {
        "id": "TP9hXnYSOZcC"
      },
      "execution_count": null,
      "outputs": []
    }
  ]
}