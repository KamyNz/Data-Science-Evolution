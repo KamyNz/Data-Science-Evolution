{
  "nbformat": 4,
  "nbformat_minor": 0,
  "metadata": {
    "colab": {
      "name": "00Practice1-PythonBuilt-In-Methods_V1.ipynb",
      "private_outputs": true,
      "provenance": [],
      "collapsed_sections": []
    },
    "kernelspec": {
      "name": "python3",
      "display_name": "Python 3"
    },
    "language_info": {
      "name": "python"
    }
  },
  "cells": [
    {
      "cell_type": "markdown",
      "source": [
        "## Reforzing Strings"
      ],
      "metadata": {
        "id": "bSGjIhAVu3ZT"
      }
    },
    {
      "cell_type": "code",
      "execution_count": null,
      "metadata": {
        "id": "uZQ7-bIi1toJ"
      },
      "outputs": [],
      "source": [
        "# Positive case:\n",
        "sentence = \"Today is Saturday\"\n",
        "\n",
        "# Find instance of first ocurrence of substring\n",
        "res1 = sentence.find(\"day\")\n",
        "\n",
        "# Negative case:\n",
        "res2 = sentence.find('nice')\n",
        "print(res1)\n",
        "print(res2)\n",
        "\n",
        "# Understanding: If you want to find the index of a substring in a string, use find() method. This method will return the index of \n",
        "# the first occurrence of the substring if found and return -1 otherwise.\n",
        "\n",
        "# Start searching for pattern from specific position\n",
        "res3 = sentence.find(\"day\",3)\n",
        "print(res3)\n",
        "\n",
        "print(sentence[res3:])"
      ]
    },
    {
      "cell_type": "code",
      "source": [
        "# 2.1.2. re.sub: Replace One String with Another String Using Regular Expression\n",
        "#re.sub allows you to use a regular expression to specify the pattern of the string you want to swap.\n",
        "#In the code below, I replace 3/7/2021 with Sunday \n",
        "\n",
        "import re\n",
        "\n",
        "text = \"Today is 3/7/2021\"\n",
        "match_pattern = r\"(\\d+)/(\\d+)/(\\d+)\"\n",
        "\n",
        "re.sub(match_pattern, \"Sunday\",text)\n",
        "\n",
        "#replace 3/7/2021 with 2021/3/7., Transponiendo posiciones\n",
        "re.sub(match_pattern,r\"\\3-\\1-\\2\",text)\n"
      ],
      "metadata": {
        "id": "a1mf81x62S0W"
      },
      "execution_count": null,
      "outputs": []
    },
    {
      "cell_type": "code",
      "source": [
        "#2.1.3. difflib.SequenceMatcher: Detect The “Almost Similar” Articles\n",
        "#How can we detect the “almost similar” articles and drop one of them? That is when difflib.SequenceMatcher comes in handy.\n",
        "\n",
        "from difflib import SequenceMatcher\n",
        "\n",
        "text1=\"I am Khuyen\"\n",
        "text2=\"I am Khuen\"\n",
        "\n",
        "print(SequenceMatcher(a=text1,b=text2).ratio())\n"
      ],
      "metadata": {
        "id": "FMIdlhhZ3nOJ"
      },
      "execution_count": null,
      "outputs": []
    },
    {
      "cell_type": "code",
      "source": [
        "dir(SequenceMatcher)"
      ],
      "metadata": {
        "id": "EtA8LJNwKkNF"
      },
      "execution_count": null,
      "outputs": []
    },
    {
      "cell_type": "code",
      "source": [
        "#2.1.4. difflib.get_close_matches: Get a List of the Best Matches for a Certain Word\n",
        "#If you want to get a list of the best matches for a certain word, use difflib.get_close_matches.\n",
        "\n",
        "from difflib import get_close_matches\n",
        "\n",
        "# List of words\n",
        "tools = ['pencil','pen','erasor','ink']\n",
        "\n",
        "# List of results\n",
        "get_close_matches('pencel',tools)\n"
      ],
      "metadata": {
        "id": "Ra2VRGBAL8zc"
      },
      "execution_count": null,
      "outputs": []
    },
    {
      "cell_type": "markdown",
      "source": [
        "## Teniendo en cuenta link: https://rushter.com/blog/python-class-internals/\n"
      ],
      "metadata": {
        "id": "pufHhcvPM5Lw"
      }
    },
    {
      "cell_type": "code",
      "source": [
        "\n",
        "# Understanding Python Class Internals\n",
        "print(SequenceMatcher.__dict__['__doc__'])"
      ],
      "metadata": {
        "id": "bx2PgX5xKzLt"
      },
      "execution_count": null,
      "outputs": []
    },
    {
      "cell_type": "code",
      "source": [
        ""
      ],
      "metadata": {
        "id": "HghRn6g8MXO1"
      },
      "execution_count": null,
      "outputs": []
    },
    {
      "cell_type": "markdown",
      "source": [
        "## Reforzing Numbers"
      ],
      "metadata": {
        "id": "M4TECy1QvEyc"
      }
    },
    {
      "cell_type": "code",
      "source": [
        "# 2.2.1. fractions: Get Numerical Results in Fractions Instead of Decimals\n",
        "\n",
        "from fractions import Fraction\n",
        "res1 = (2/(3+1))\n",
        "\n",
        "res2 = Fraction(2/3+1)\n",
        "\n",
        "#resultado 1\n",
        "print(\"Resultado 1\")\n",
        "print(res1)\n",
        "#resultado 2\n",
        "print(\"Resultado 2\")\n",
        "print(res2)\n"
      ],
      "metadata": {
        "id": "j2enPLaYvGRm"
      },
      "execution_count": null,
      "outputs": []
    },
    {
      "cell_type": "code",
      "source": [
        "#Cool! We got a fraction instead of a decimal. To limit the number of decimals displayed, use limit_denominator().\n",
        "res2_denominator = res2.limit_denominator()\n",
        "print(res2_denominator)"
      ],
      "metadata": {
        "id": "R3y932EczVu4"
      },
      "execution_count": null,
      "outputs": []
    },
    {
      "cell_type": "code",
      "source": [
        "#If we divide the result we got from Fraction by another number, we got back a fraction without using the Fraction object again.\n",
        "print(res2_denominator / 3)\n"
      ],
      "metadata": {
        "id": "eucYZxCNz72i"
      },
      "execution_count": null,
      "outputs": []
    },
    {
      "cell_type": "code",
      "source": [
        "#2.2.2. How to Use Underscores to Format Large Numbers in Python\n",
        "large_num = 1_000_000\n",
        "large_num"
      ],
      "metadata": {
        "id": "v1-QaqL-3Qva"
      },
      "execution_count": null,
      "outputs": []
    },
    {
      "cell_type": "code",
      "source": [
        "#2.2.3. Confirm Whether a Variable Is a Number\n",
        "from numbers import Number\n",
        "a = 2\n",
        "b = 0.4\n",
        "c = \"text\"\n",
        "\n",
        "\n",
        "# check if instance is number\n",
        "print(isinstance(a, Number))\n",
        "print(isinstance(b,Number))\n",
        "print(isinstance(c,Number))"
      ],
      "metadata": {
        "id": "y4gGHAnW6ngY"
      },
      "execution_count": null,
      "outputs": []
    },
    {
      "cell_type": "code",
      "source": [
        "#2.2.4. Get Multiples of a Number Using Modulus\n",
        "#If you want to get multiples of a number, use the modulus operator %. The modulus operator \n",
        "#is used to get the remainder of a division. For example, 4 % 3 = 1, 5 % 3 = 2.\n",
        "\n",
        "def get_multiples_of_n(nums: list, n: int):\n",
        "  \"\"\"Select only numbers whose remainders are 0 when dividing them by n\n",
        "  \"\"\"\n",
        "  # using nested list with for\n",
        "  result_list = [number for number in nums if number % n == 0]\n",
        "  return(result_list)"
      ],
      "metadata": {
        "id": "rWlO-DhM6unU"
      },
      "execution_count": null,
      "outputs": []
    },
    {
      "cell_type": "code",
      "source": [
        "nums = [1, 4, 9, 12, 15, 16]"
      ],
      "metadata": {
        "id": "NCIxytzy7mhw"
      },
      "execution_count": null,
      "outputs": []
    },
    {
      "cell_type": "code",
      "source": [
        "get_multiples_of_n(nums,4) # multiples of 4"
      ],
      "metadata": {
        "id": "_AEoMEGL8fKm"
      },
      "execution_count": null,
      "outputs": []
    },
    {
      "cell_type": "code",
      "source": [
        "get_multiples_of_n(nums,3) # multiples of 3"
      ],
      "metadata": {
        "id": "wt-qbf8G8ibd"
      },
      "execution_count": null,
      "outputs": []
    },
    {
      "cell_type": "code",
      "source": [
        "get_multiples_of_n(nums,2) # multiples of 2"
      ],
      "metadata": {
        "id": "Q_jRixGJ8tRD"
      },
      "execution_count": null,
      "outputs": []
    },
    {
      "cell_type": "markdown",
      "source": [
        "# Good Practices with Lists"
      ],
      "metadata": {
        "id": "qTvVp_-nG1H8"
      }
    },
    {
      "cell_type": "code",
      "source": [
        "#2.3.1.1. Stop using = operator to create a copy of a Python list. Use copy method instead\n",
        "\n",
        "list1= [1,2,3]\n",
        "list2 = list1\n",
        "list2.append(4)\n",
        "\n",
        "print(list1)\n",
        "print(list2)\n"
      ],
      "metadata": {
        "id": "ML1k8OKfG0-d"
      },
      "execution_count": null,
      "outputs": []
    },
    {
      "cell_type": "code",
      "source": [
        "#Instead of using = operator, use copy() method. Now your old list will not change when you change your new list.\n",
        "l1 = [1,2,3]\n",
        "l2 = l1.copy()\n",
        "l2.append(4)\n",
        "\n",
        "print(l1)\n",
        "print(l2)"
      ],
      "metadata": {
        "id": "3lUQIlF88wRe"
      },
      "execution_count": null,
      "outputs": []
    },
    {
      "cell_type": "code",
      "source": [
        "#2.3.1.2. deepcopy: Copy a Nested Object\n",
        "\n",
        "from copy import deepcopy\n",
        "\n",
        "list1 = [1,2, [3,4]]\n",
        "list2 = list1.copy()\n",
        "\n",
        "#changing list\n",
        "list2[0]= 6\n",
        "list2[2].append(5)\n",
        "\n",
        "print(\"Printing list2, using just copy, which use shallow copy\")\n",
        "print(list2)\n",
        "\n",
        "print(\"Printing list1,which was the original, and using shallow copy\")\n",
        "print(list1)"
      ],
      "metadata": {
        "id": "G5rgAqs9HztV"
      },
      "execution_count": null,
      "outputs": []
    },
    {
      "cell_type": "code",
      "source": [
        "ldeepcopy1 = [1,2,[3,4]]\n",
        "ldeepcopy3 = deepcopy(ldeepcopy1)"
      ],
      "metadata": {
        "id": "JAIqjt8KH0ix"
      },
      "execution_count": null,
      "outputs": []
    },
    {
      "cell_type": "code",
      "source": [
        "print(\"Printing ldeepcopy3,which changed, and using deep copy\")\n",
        "ldeepcopy3[2].append(5)\n",
        "print(ldeepcopy3)"
      ],
      "metadata": {
        "id": "SuPUffjvJquY"
      },
      "execution_count": null,
      "outputs": []
    },
    {
      "cell_type": "code",
      "source": [
        "print(\"Printing ldeepcopy1,which is the original, and using deep copy\")\n",
        "print(ldeepcopy1)"
      ],
      "metadata": {
        "id": "6gT47TEZJxSn"
      },
      "execution_count": null,
      "outputs": []
    },
    {
      "cell_type": "code",
      "source": [
        "#2.3.1.3. Enumerate: Get Counter and Value While Looping\n",
        "#Are you using for i in range(len(array)) to access both the index \n",
        "#and the value of the array? If so, use enumerate instead. It produces the same result but it is much cleaner.\n",
        "\n",
        "arr = ['a', 'b', 'c', 'd', 'e']\n",
        "\n",
        "print(\"Use enumarate instead of recorring the loop\")\n",
        "for idx, value in enumerate(arr):\n",
        "  print(idx,value)\n",
        "\n",
        "print(\"Instead of using normal loop\")\n",
        "for i in range(len(arr)):\n",
        "  print(i,arr[i])\n",
        "\n"
      ],
      "metadata": {
        "id": "LNx9-IXzKCiR"
      },
      "execution_count": null,
      "outputs": []
    },
    {
      "cell_type": "code",
      "source": [
        "#2.3.1.4. Difference between list append and list extend\n",
        "print(\"Using extend function to add to a list\")\n",
        "lista = [1,2,3,4]\n",
        "lista.extend([5,6])\n",
        "print(lista)"
      ],
      "metadata": {
        "id": "jywZ9KhFKPzA"
      },
      "execution_count": null,
      "outputs": []
    },
    {
      "cell_type": "code",
      "source": [
        "print(\"Using append function to add to a list\")\n",
        "lista_bad = [1,2,3,4]\n",
        "lista_bad.append([5,6])\n",
        "print(lista_bad)\n"
      ],
      "metadata": {
        "id": "IXZ4Pbt-MTbi"
      },
      "execution_count": null,
      "outputs": []
    },
    {
      "cell_type": "markdown",
      "source": [
        "## Lists: Get Elements"
      ],
      "metadata": {
        "id": "21bFkxu3ORqe"
      }
    },
    {
      "cell_type": "code",
      "source": [
        "#2.3.2.1. random.choice: Get a Randomly Selected Element from a Python List\n",
        "#Besides getting a random number, you can also get a random element from a Python list using random. \n",
        "#In the code below, “stay at home” was picked randomly from a list of options.\n",
        "\n",
        "import random\n",
        "\n",
        "print(\"Using random library to get choice\")\n",
        "to_do_tonight = ['do python','do brilliant','do fast api']\n",
        "random.choice(to_do_tonight)\n",
        "\n"
      ],
      "metadata": {
        "id": "PF2OCA_VOGxg"
      },
      "execution_count": null,
      "outputs": []
    },
    {
      "cell_type": "code",
      "source": [
        "to_do_tonight = ['stay at home', 'attend party', 'do exercise']\n",
        "\n",
        "random.choice(to_do_tonight)\n",
        "\n",
        "dir(random)"
      ],
      "metadata": {
        "id": "0a_lcV4Haq3s"
      },
      "execution_count": null,
      "outputs": []
    },
    {
      "cell_type": "code",
      "source": [
        "print(random.choice.__doc__)\n",
        "\n",
        "print(random.choices.__doc__)"
      ],
      "metadata": {
        "id": "HwFneD_abMYk"
      },
      "execution_count": null,
      "outputs": []
    },
    {
      "cell_type": "code",
      "source": [
        "#2.3.2.2. random.sample: Get Multiple Random Elements from a Python List\n",
        "#If you want to get n random elements from a list, use random.sample.\n",
        "\n",
        "import random \n",
        "\n",
        "print(\"Using .seed\")\n",
        "random.seed(1)\n",
        "numbers = [1,2,3,4,5]\n",
        "print(f'Priting list numbers: {numbers}')\n",
        "random_numbers = random.sample(numbers, 2)\n",
        "print(f'Getting 2 values from list at random: {random_numbers}')\n"
      ],
      "metadata": {
        "id": "wdIJ0yDDbo6A"
      },
      "execution_count": null,
      "outputs": []
    },
    {
      "cell_type": "code",
      "source": [
        "#2.3.2.3. heapq: Find n Max Values of a Python List\n",
        "import heapq  #using heapq\n",
        "import random #using random\n",
        "from timeit import timeit\n",
        "\n",
        "\n",
        "random.seed(0)\n",
        "l = random.sample(range(0,10_000),10_000)\n",
        "\n",
        "#Creating function\n",
        "def get_n_max_sorting(l: list, n: int):\n",
        "  l = sorted(l,reverse=True)\n",
        "  return(l[:n])\n",
        "\n",
        "def get_n_max_heapq(l: list, n: int):\n",
        "  l_sorted = heapq.nlargest(n,l)\n",
        "\n"
      ],
      "metadata": {
        "id": "MJMcQiNmcM0Y"
      },
      "execution_count": null,
      "outputs": []
    },
    {
      "cell_type": "code",
      "source": [
        "dir(heapq)"
      ],
      "metadata": {
        "id": "jMoF9aakeEyR"
      },
      "execution_count": null,
      "outputs": []
    },
    {
      "cell_type": "code",
      "source": [
        "expSize = 1000\n",
        "n = 100\n",
        "\n",
        "# Using globals functions, when using globas, the arguments have to go with the same name\n",
        "time_sorting = timeit(\"get_n_max_sorting(l,n)\",number=expSize,globals=globals())\n",
        "time_heapq = timeit(\"get_n_max_heapq(l,n)\",number=expSize,globals=globals())"
      ],
      "metadata": {
        "id": "kkSZ0BUmeNaf"
      },
      "execution_count": null,
      "outputs": []
    },
    {
      "cell_type": "code",
      "source": [
        "#Calculating a ratio to know which one is faster\n",
        "ratio = round(time_sorting/time_heapq,3)\n",
        "print(f'Run {expSize} experiments. Using heapq is {ratio} times faster than using sorting')"
      ],
      "metadata": {
        "id": "pzaUqrKYyqAy"
      },
      "execution_count": null,
      "outputs": []
    },
    {
      "cell_type": "markdown",
      "source": [
        "### Link using globals: https://www.geeksforgeeks.org/python-globals-function/"
      ],
      "metadata": {
        "id": "-qNKI248d0pf"
      }
    },
    {
      "cell_type": "markdown",
      "source": [
        "## Lists: Unpack Iterables"
      ],
      "metadata": {
        "id": "meJqct7IOUhQ"
      }
    },
    {
      "cell_type": "code",
      "source": [
        "# 2.3.3.1. How to Unpack Iterables in Python\n",
        "# To assign items of a Python iterables (such as list, tuple, string) to different variables, \n",
        "# you can unpack the iterable like below.\n",
        "\n",
        "nested_arr = [[1,2,3],[\"a\",\"b\"],4]\n",
        "num_arr, char_arr, num = nested_arr\n",
        "\n",
        "print(num_arr)\n",
        "\n",
        "print(char_arr)\n",
        "\n",
        "print(num)"
      ],
      "metadata": {
        "id": "CNAVOcDqOWoi"
      },
      "execution_count": null,
      "outputs": []
    },
    {
      "cell_type": "code",
      "source": [
        "#2.3.3.2. Extended Iterable Unpacking: Ignore Multiple Values when Unpacking a Python Iterable\n",
        "#If you want to ignore multiple values when unpacking a Python iterable, add * to _ as shown below.\n",
        "#This is called “Extended Iterable Unpacking” and is available in Python 3.x.\n",
        "\n",
        "a, *_, b = [2,3,4,5]\n",
        "\n",
        "print(f\"Printing a: {a}\")\n",
        "print(f\"\\nPrinting b: {b}\")\n",
        "print(f\"\\nPrinting _: {_}\")"
      ],
      "metadata": {
        "id": "1LgjOZ4SzJxp"
      },
      "execution_count": null,
      "outputs": []
    },
    {
      "cell_type": "markdown",
      "source": [
        "## Lists: Join Iterables"
      ],
      "metadata": {
        "id": "zJHw_vPsOXGt"
      }
    },
    {
      "cell_type": "code",
      "source": [
        "#2.3.4.1. join method: Turn an Iterable into a Python String\n",
        "#If you want to turn an iterable into a string, use join(). \n",
        "#In the code below, I join elements in the list fruits using “, “.\n",
        "\n",
        "activates = [\"to get up\",\"to get lunch\",\"to get breakfast\"]\n",
        "activates_str = ','.join(activates)\n",
        "\n",
        "print(f'Some activities that I will do are: {activates_str}')"
      ],
      "metadata": {
        "id": "TP9hXnYSOZcC"
      },
      "execution_count": null,
      "outputs": []
    },
    {
      "cell_type": "code",
      "source": [
        "import random\n",
        "import string\n",
        "\n",
        "def randStr(chars = string.ascii_uppercase + string.digits, N=10):\n",
        "\treturn ''.join(random.choice(chars) for _ in range(N))\n",
        " \n",
        " "
      ],
      "metadata": {
        "id": "pwf1l83c25-U"
      },
      "execution_count": null,
      "outputs": []
    },
    {
      "cell_type": "code",
      "source": [
        "#2.3.4.2. Zip: Associate Elements from Two Iterators based on the Order\n",
        "#If you want to associate elements from two iterators based on the order, combine list and zip.\n",
        "numbers = range(5)\n",
        "str_for_test = randStr(N=5)\n",
        "\n",
        "print(str_for_test)\n",
        "\n",
        "# Using list and zip to associate elements frow 2 iterators\n",
        "possible_combinations = list(zip(numbers,str_for_test))\n",
        "possible_combinations"
      ],
      "metadata": {
        "id": "FruL791v0Puh"
      },
      "execution_count": null,
      "outputs": []
    },
    {
      "cell_type": "code",
      "source": [
        "#2.3.4.3. Zip Function: Create Pairs of Elements from Two Lists in Python\n",
        "#If you want to create pairs of elements from two lists, use zip. \n",
        "#zip() function takes iterables and aggregates them in a tuple.\n",
        "\n",
        "numbers = range(5)\n",
        "chars = randStr(N=5)\n",
        "\n",
        "#Generate combination\n",
        "comb = list(zip(numbers, chars))\n",
        "comb"
      ],
      "metadata": {
        "id": "5qTFiBJr0P11"
      },
      "execution_count": null,
      "outputs": []
    },
    {
      "cell_type": "code",
      "source": [
        "#You can also unzip the list of tuples by using zip(*list_of_tuples).\n",
        "nums_2, chars_2 = zip(*comb)\n",
        "print(nums_2)\n",
        "print(chars_2)"
      ],
      "metadata": {
        "id": "fYuSJjBa3gs6"
      },
      "execution_count": null,
      "outputs": []
    },
    {
      "cell_type": "markdown",
      "source": [
        "## Lists: Interaction Between 2 Lists"
      ],
      "metadata": {
        "id": "tfzB2beG4Hzt"
      }
    },
    {
      "cell_type": "code",
      "source": [
        "#2.3.5.1. set.intersection: Find the Intersection Between 2 Sets\n",
        "#If you want to get the common elements between 2 lists, \n",
        "#convert lists to sets then use set.intersection to find the intersection between 2 sets.\n",
        "\n",
        "requirements1 = ['pandas','numpy','statsmodel']\n",
        "requirements2 = ['numpy','statsmodel','sympy','matplotlib']\n",
        "\n",
        "# using set, to get unique from each list and then get intersection from them\n",
        "inner_intersection = set.intersection(set(requirements1),set(requirements2)) \n",
        "\n",
        "print(f'The dictionary of intersection: {inner_intersection}')\n",
        "\n",
        "print(f'Getting intersection as list: {list(inner_intersection)}')\n"
      ],
      "metadata": {
        "id": "gM6Z6HES4J0g"
      },
      "execution_count": null,
      "outputs": []
    },
    {
      "cell_type": "code",
      "source": [
        "print(dir(set))\n",
        "\n",
        "print(set.__doc__)"
      ],
      "metadata": {
        "id": "FqKTid8W5rm9"
      },
      "execution_count": null,
      "outputs": []
    },
    {
      "cell_type": "code",
      "source": [
        "#2.3.5.2. Set Difference: Find the Difference Between 2 Sets\n",
        "#If you want to find the difference between 2 lists, \n",
        "#turn those lists into sets then apply the difference() method to the sets.\n",
        "\n",
        "A = list(range(4))\n",
        "B = list(range(5))\n",
        "B[2]=7\n",
        "\n",
        "print(A)\n",
        "print(B)"
      ],
      "metadata": {
        "id": "hx073SV76Cyl"
      },
      "execution_count": null,
      "outputs": []
    },
    {
      "cell_type": "code",
      "source": [
        "#dir(set)"
      ],
      "metadata": {
        "id": "q0SWHe6o7PfY"
      },
      "execution_count": null,
      "outputs": []
    },
    {
      "cell_type": "code",
      "source": [
        "# Find elements in A but not in B\n",
        "# Using method of difference in set\n",
        "diff1 = set(A).difference(set(B))\n",
        "print(f'Printing set(A): {set(A)}')\n",
        "print(f'Printing set(B): {set(B)}')\n",
        "print(f'Getting list of difference between 2 sets: {list(diff1)}')\n",
        "\n",
        "# Be careful, according to the order of the sets, you can get different results"
      ],
      "metadata": {
        "id": "h2hj0NBT7Gx4"
      },
      "execution_count": null,
      "outputs": []
    },
    {
      "cell_type": "code",
      "source": [
        "# Find elements in B but not in A\n",
        "diff2 = set(B).difference(set(A))\n",
        "\n",
        "print(f'Printing set(B): {set(B)}')\n",
        "print(f'Printing set(A): {set(A)}')\n",
        "print(f'Getting list of difference between 2 sets: {list(diff2)}')\n"
      ],
      "metadata": {
        "id": "JGn6X8Ax7G5S"
      },
      "execution_count": null,
      "outputs": []
    },
    {
      "cell_type": "markdown",
      "source": [
        "# 2.3.6. Apply Functions to Elements in a List"
      ],
      "metadata": {
        "id": "c5TIGGJJ9Mvx"
      }
    },
    {
      "cell_type": "code",
      "source": [
        "#2.3.6.1. any: Check if Any Element of an Iterable is True\n",
        "#If you want to check if any element of an iterable is True, use any. \n",
        "#In the code below, I use any to find if any element in the text is in uppercase.\n",
        "\n",
        "text_test = randStr(N=10)\n",
        "\n",
        "#using any, in for loop for each character in String\n",
        "any(c.isupper() for c in text_test)"
      ],
      "metadata": {
        "id": "dIzqMdvh9PDO"
      },
      "execution_count": null,
      "outputs": []
    },
    {
      "cell_type": "code",
      "source": [
        "# Instead of loop\n",
        "for c in text_test:\n",
        "  print(f'Printing c: {c}')\n",
        "  print(f'Printinf if isupper(): {c.isupper()}')\n",
        "\n",
        "\n",
        "dir(any)\n",
        "print(\"\\n\")\n",
        "print(any.__doc__)"
      ],
      "metadata": {
        "id": "G4gEQdwb_hrW"
      },
      "execution_count": null,
      "outputs": []
    },
    {
      "cell_type": "code",
      "source": [
        "#2.3.6.2. all: Check if All Elements of an Interable Are Strings\n",
        "#If you want to check if all elements of an iterable are strings, use all and isinstance.\n",
        "\n",
        "l = ['a','b',1, 2]\n",
        "l_test = randStr(N=5)\n",
        "\n",
        "print(f'First example: {l}')\n",
        "# When using all, we can use a loop\n",
        "print(all(isinstance(item,str) for item in l))\n",
        "\n",
        "print(f'Second example that comes from function that makes random words: {l_test}')\n",
        "print(all(isinstance(item_test,str) for item_test in l_test))"
      ],
      "metadata": {
        "id": "hWjqgTH1_Bv9"
      },
      "execution_count": null,
      "outputs": []
    },
    {
      "cell_type": "code",
      "source": [
        "#2.3.6.3. filter: Get the Elements of an Iterable that a Function Evaluates True\n",
        "#If you want to get the elements of an iterable that a function returns true, use filter.\n",
        "#In the code below, I use the filter method to get items that are fruits.\n",
        "\n",
        "# using filter to get elements that are in iterable\n",
        "\n",
        "def get_fruit(val: str):\n",
        "  fruits = ['apple','orange','grape']\n",
        "  return(val in fruits)\n",
        "\n",
        "# When using filter, a function should be passed to get items that are in list to search\n",
        "items = ['chair','apple','water','table','orange']\n",
        "\n",
        "print(f'The items that are going to be searched: {items} using function get_fruit with filter')\n",
        "\n",
        "filter_fruits = filter(get_fruit,items)\n",
        "\n",
        "print(f'The result is: {list(filter_fruits)}')\n"
      ],
      "metadata": {
        "id": "vspzFXeE9bFP"
      },
      "execution_count": null,
      "outputs": []
    },
    {
      "cell_type": "code",
      "source": [
        "#2.3.6.4. map method: Apply a Function to Each Item of an Iterable\n",
        "#If you want to apply the given function to each item of a given iterable, use map.\n",
        "# With 2 examples\n",
        "\n",
        "numbers = [1,2,3]\n",
        "\n",
        "# Getting list of converted values after using map over numbers list\n",
        "print(f'Getting numbers list to a list of str: {numbers}')\n",
        "list(map(str,numbers))\n",
        "\n",
        "\n",
        "# Another examples if using a function of lambda over same number:\n",
        "multiply_by_two = lambda num: num * 2\n",
        "\n",
        "print(f'Getting numbers list to multiply by two using lambda function: {numbers}')\n",
        "list(map(multiply_by_two,numbers))\n"
      ],
      "metadata": {
        "id": "sR9vFwjyBIgm"
      },
      "execution_count": null,
      "outputs": []
    },
    {
      "cell_type": "code",
      "source": [
        "#2.3.6.5. sort: Sort a List of Tuples by the First or Second Item\n",
        "#If you want to sort a list of tuples by the first or second item in a tuple, \n",
        "#use the sort method. To specify which item to sort by, use the key parameter.\n",
        "# best way to sort list of tuples\n",
        "prices = [('apple', 3), ('orange', 1), ('grape', 3), ('banana', 2)]\n",
        "print(f'List of tuples to use before sort: {prices}')\n",
        "\n",
        "# Sort by the first item\n",
        "by_letter = lambda x: x[0]\n",
        "by_number = lambda x: x[1]\n",
        "\n",
        "# Using sort withe parameter of sorting \n",
        "print(f'Using sort according to key')\n",
        "prices.sort(key=by_letter)\n",
        "print(f'Getting result after sorting prices by letter: {prices}')\n"
      ],
      "metadata": {
        "id": "GQnxNVQMDcnw"
      },
      "execution_count": null,
      "outputs": []
    },
    {
      "cell_type": "code",
      "source": [
        "# Sort by the second item in reversed order\n",
        "by_number = lambda x:x[1]\n",
        "print(f'Using sort according to key')\n",
        "prices.sort(key=by_number)\n",
        "print(f'Getting result after sorting prices by number: {prices}')"
      ],
      "metadata": {
        "id": "Zg97sZAqFAQO"
      },
      "execution_count": null,
      "outputs": []
    },
    {
      "cell_type": "code",
      "source": [
        "#2.3.6.6. Use any and List Comprehension Instead of an If-Else Statement\n",
        "#If you want to check whether a statement is True for one or more items in a list, \n",
        "#using any and list comprehension is simpler than using a for-loop and an if-else statement.\n"
      ],
      "metadata": {
        "id": "wo6SpaGPFAXT"
      },
      "execution_count": null,
      "outputs": []
    },
    {
      "cell_type": "code",
      "source": [
        "FRUITS = ['apple','orange','grape']\n",
        "\n",
        "#Practicing list comprehension, and getting a conditional there\n",
        "\n",
        "# Instead of using a for loop in function, we can use any with list comprehension\n",
        "def check_mention_fruit_1(text: str):\n",
        "  for fruit in FRUITS:\n",
        "    if fruit in text:\n",
        "      return True\n",
        "\n",
        "str_test = 'I got an apple.'\n",
        "print(f'Checking mention of FRUITS using function with inner loop: {str_test}')\n",
        "check_mention_fruit_1(str_test)"
      ],
      "metadata": {
        "id": "kpnyrkNYGfeu"
      },
      "execution_count": null,
      "outputs": []
    },
    {
      "cell_type": "code",
      "source": [
        "def check_mention_fruit_2(text: str):\n",
        "  list_comprehension = [fruit_temp for fruit_temp in FRUITS]\n",
        "  print(list_comprehension)\n",
        "  #using any\n",
        "  return(any(fruit_temp in text for fruit_temp in FRUITS ))\n",
        "\n",
        "print(f'Checking mention of FRUITS using function with list_comprehension with any function: {str_test}')\n",
        "check_mention_fruit_2(str_test)"
      ],
      "metadata": {
        "id": "dPrKolzHHCAI"
      },
      "execution_count": null,
      "outputs": []
    },
    {
      "cell_type": "code",
      "source": [
        ""
      ],
      "metadata": {
        "id": "4XvZfIFKHCLq"
      },
      "execution_count": null,
      "outputs": []
    },
    {
      "cell_type": "code",
      "source": [
        ""
      ],
      "metadata": {
        "id": "oMnBbBdzIyIt"
      },
      "execution_count": null,
      "outputs": []
    }
  ]
}